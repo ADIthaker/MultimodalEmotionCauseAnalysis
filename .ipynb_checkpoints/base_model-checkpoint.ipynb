{
 "cells": [
  {
   "cell_type": "code",
   "execution_count": null,
   "id": "dc7eccfb-c318-4fa6-afc7-58a5e38fc0db",
   "metadata": {},
   "outputs": [],
   "source": []
  },
  {
   "cell_type": "code",
   "execution_count": 6,
   "id": "d2ef1a8d-1c94-40bb-bd56-c8b383d16057",
   "metadata": {},
   "outputs": [],
   "source": [
    "import json\n",
    "import pandas as pd\n",
    "import matplotlib.pyplot as plt\n",
    "import re \n",
    "# Opening JSON file\n",
    "f = open('data/Subtask_1_1_train.json')\n",
    " \n",
    "# returns JSON object as \n",
    "# a dictionary\n",
    "data = json.load(f)"
   ]
  },
  {
   "cell_type": "code",
   "execution_count": 2,
   "id": "56bb6ac0-f18f-4f0a-b804-026eda0009ab",
   "metadata": {},
   "outputs": [
    {
     "data": {
      "text/plain": [
       "{'emotion_utterance_ID': 'dia1utt3',\n",
       " 'emotion': 'surprise',\n",
       " 'conversation': [{'utterance_ID': 1,\n",
       "   'text': 'Alright , so I am back in high school , I am standing in the middle of the cafeteria , and I realize I am totally naked .',\n",
       "   'speaker': 'Chandler',\n",
       "   'emotion': 'neutral'},\n",
       "  {'utterance_ID': 2,\n",
       "   'text': 'Oh , yeah . Had that dream .',\n",
       "   'speaker': 'All',\n",
       "   'emotion': 'neutral'},\n",
       "  {'utterance_ID': 3,\n",
       "   'text': 'Then I look down , and I realize there is a phone ... there .',\n",
       "   'speaker': 'Chandler',\n",
       "   'emotion': 'surprise'},\n",
       "  {'utterance_ID': 4,\n",
       "   'text': 'Instead of ... ?',\n",
       "   'speaker': 'Joey',\n",
       "   'emotion': 'surprise'},\n",
       "  {'utterance_ID': 5,\n",
       "   'text': 'That is right .',\n",
       "   'speaker': 'Chandler',\n",
       "   'emotion': 'anger'},\n",
       "  {'utterance_ID': 6,\n",
       "   'text': 'Never had that dream .',\n",
       "   'speaker': 'Joey',\n",
       "   'emotion': 'neutral'},\n",
       "  {'utterance_ID': 7,\n",
       "   'text': 'No .',\n",
       "   'speaker': 'Phoebe',\n",
       "   'emotion': 'neutral'},\n",
       "  {'utterance_ID': 8,\n",
       "   'text': 'All of a sudden , the phone starts to ring .',\n",
       "   'speaker': 'Chandler',\n",
       "   'emotion': 'neutral'}],\n",
       " 'cause_spans': ['1_I realize I am totally naked .',\n",
       "  '3_Then I look down , and I realize there is a phone ... there .']}"
      ]
     },
     "execution_count": 2,
     "metadata": {},
     "output_type": "execute_result"
    }
   ],
   "source": [
    "data[0]"
   ]
  },
  {
   "cell_type": "code",
   "execution_count": null,
   "id": "aacb8231-0fda-4d13-a303-1e34810e9b99",
   "metadata": {},
   "outputs": [],
   "source": [
    "\n",
    "for d in data:\n",
    "    cause_ids = [int(re.findall(pattern,cause, flags=0)[0]) for cause in d['cause_spans']]"
   ]
  },
  {
   "cell_type": "code",
   "execution_count": 58,
   "id": "7cfd5704-e81f-49bb-9666-bcf435d24b82",
   "metadata": {},
   "outputs": [],
   "source": [
    "# 1. Put everything before the text in the cause span\n",
    "pattern = r'\\d+'\n",
    "predict = {'emotion_utterance_ID' : [], 'cause_spans' : []}\n",
    "for scene in data:\n",
    "    scene_id = scene['emotion_utterance_ID']\n",
    "    target_utt_id = int(re.findall(pattern,scene_id, flags=0)[-1])\n",
    "    predict['emotion_utterance_ID'].append(scene_id)\n",
    "    scene_span = []\n",
    "    for utterance in scene['conversation']:\n",
    "        if utterance['utterance_ID'] <= target_utt_id:\n",
    "           scene_span.append(str(utterance['utterance_ID']) +'_' + utterance['text'])\n",
    "    predict['cause_spans'].append(scene_span)\n",
    "#predict"
   ]
  },
  {
   "cell_type": "code",
   "execution_count": 61,
   "id": "6acdf46e-a333-42b9-adef-d987ce1aa7cb",
   "metadata": {},
   "outputs": [
    {
     "name": "stdout",
     "output_type": "stream",
     "text": [
      "1\n"
     ]
    }
   ],
   "source": [
    "for a,b in zip([1,2,3,4,5], [1]):\n",
    "    print(a)"
   ]
  },
  {
   "cell_type": "code",
   "execution_count": 62,
   "id": "86e2f316-5cdd-4460-b159-a10b4696d7ba",
   "metadata": {},
   "outputs": [
    {
     "name": "stdout",
     "output_type": "stream",
     "text": [
      "0.03945979323944784 0.17102764296265036 0.8182735991923271 0.28292172091805573\n"
     ]
    }
   ],
   "source": [
    "# what are the evaluation metrics of this model?\n",
    "# accuracy = TP + FN / TP + TN + FP + FN\n",
    "true_p, false_p, true_n, false_n = 0,0,0,0\n",
    "for scene,pred_causes in zip(data,predict['cause_spans']):\n",
    "    scene_causes = scene['cause_spans']\n",
    "    scene_cause_id  = re.findall(pattern,\"\".join(scene_causes), flags = 0)\n",
    "    predict_cause_id = re.findall(pattern,\"\".join(pred_causes), flags = 0)\n",
    "    #print(re.findall(pattern,\"\".join(scene_causes), flags = 0))\n",
    "    #print(re.findall(pattern,\"\".join(pred_causes), flags = 0))\n",
    "    len_utterances = scene['conversation'][-1]['utterance_ID']\n",
    "    #print(len_utterances)\n",
    "    tp, fp, tn, fn, = 0 , 0, 0 , 0\n",
    "    # get the positives\n",
    "    for p_id, s_id in zip(predict_cause_id, scene_cause_id):\n",
    "        if p_id in scene_cause_id:\n",
    "            tp += 1\n",
    "        else:\n",
    "            fp += 1\n",
    "        if s_id not in predict_cause_id:\n",
    "            fn += 1\n",
    "    # get the negatives\n",
    "    \n",
    "    negatives = [str(i) for i in range(1, len_utterances + 1)]\n",
    "    \n",
    "    for s_id in scene_cause_id:\n",
    "        if s_id in negatives:\n",
    "            negatives.remove(s_id)\n",
    "    for neg in negatives:\n",
    "        if neg not in predict_cause_id:\n",
    "            tn += 1\n",
    "    true_p += tp\n",
    "    false_p +=  fp\n",
    "    true_n += tn\n",
    "    false_n += fn\n",
    "    #print(tp,fp, tn, fn)\n",
    "    \n",
    "#print( true_p, false_p, true_n, false_n )\n",
    "    \n",
    "\n",
    "accuracy = (true_p + false_n ) / (true_p + false_p + true_n +  false_n)\n",
    "precision = (true_p) /( true_p +  false_p) \n",
    "recall = true_p / (true_p + false_n)\n",
    "f1 = 2 * (recall * precision) / (recall + precision)\n",
    "print(accuracy, precision,recall, f1)\n"
   ]
  },
  {
   "cell_type": "code",
   "execution_count": 35,
   "id": "62e69b99-e907-4639-891b-e6d3324b796c",
   "metadata": {},
   "outputs": [
    {
     "data": {
      "text/plain": [
       "['2', '4', '5', '6', '7', '8']"
      ]
     },
     "execution_count": 35,
     "metadata": {},
     "output_type": "execute_result"
    }
   ],
   "source": [
    "possible = [str(i) for i in range(1, 8 + 1)]\n",
    "for s_id in ['1', '3']:\n",
    "    possible.remove(s_id)\n",
    "possible"
   ]
  },
  {
   "cell_type": "code",
   "execution_count": 12,
   "id": "d001a978-35b8-4681-9e82-5a5096f6eeaa",
   "metadata": {},
   "outputs": [],
   "source": [
    "empty = []\n",
    "if empty:\n",
    "    print('hi')"
   ]
  }
 ],
 "metadata": {
  "kernelspec": {
   "display_name": "Python 3 (ipykernel)",
   "language": "python",
   "name": "python3"
  },
  "language_info": {
   "codemirror_mode": {
    "name": "ipython",
    "version": 3
   },
   "file_extension": ".py",
   "mimetype": "text/x-python",
   "name": "python",
   "nbconvert_exporter": "python",
   "pygments_lexer": "ipython3",
   "version": "3.11.5"
  }
 },
 "nbformat": 4,
 "nbformat_minor": 5
}
