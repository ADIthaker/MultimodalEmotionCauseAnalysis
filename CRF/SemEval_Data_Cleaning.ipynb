{
  "nbformat": 4,
  "nbformat_minor": 0,
  "metadata": {
    "colab": {
      "provenance": []
    },
    "kernelspec": {
      "name": "python3",
      "display_name": "Python 3"
    },
    "language_info": {
      "name": "python"
    }
  },
  "cells": [
    {
      "cell_type": "code",
      "execution_count": 1,
      "metadata": {
        "colab": {
          "base_uri": "https://localhost:8080/"
        },
        "id": "-xr9mzEpGsmU",
        "outputId": "c98554cc-c4a3-4372-ca75-a88f788906a1"
      },
      "outputs": [
        {
          "output_type": "stream",
          "name": "stdout",
          "text": [
            "Mounted at /content/drive\n"
          ]
        }
      ],
      "source": [
        "from google.colab import drive\n",
        "drive.mount('/content/drive', force_remount=True)"
      ]
    },
    {
      "cell_type": "code",
      "source": [
        "import pandas as pd\n",
        "import json\n",
        "train_data = \"/content/drive/MyDrive/Subtask_1_train.json\"\n",
        "f = open(train_data)\n",
        "data = json.load(f)\n",
        "f.close()"
      ],
      "metadata": {
        "id": "ksdEZFH_HJd1"
      },
      "execution_count": 2,
      "outputs": []
    },
    {
      "cell_type": "code",
      "source": [
        "data[0]['emotion_utterance_ID']"
      ],
      "metadata": {
        "colab": {
          "base_uri": "https://localhost:8080/",
          "height": 36
        },
        "id": "OWKccMkOLcae",
        "outputId": "611402b0-18fc-4a5e-b57d-429f4a3c0e0c"
      },
      "execution_count": 3,
      "outputs": [
        {
          "output_type": "execute_result",
          "data": {
            "text/plain": [
              "'dia1utt3'"
            ],
            "application/vnd.google.colaboratory.intrinsic+json": {
              "type": "string"
            }
          },
          "metadata": {},
          "execution_count": 3
        }
      ]
    },
    {
      "cell_type": "code",
      "source": [
        "d = pd.read_json(train_data)"
      ],
      "metadata": {
        "id": "K8-ViZE2ITb2"
      },
      "execution_count": 4,
      "outputs": []
    },
    {
      "cell_type": "code",
      "source": [
        "d"
      ],
      "metadata": {
        "colab": {
          "base_uri": "https://localhost:8080/",
          "height": 423
        },
        "id": "CvrnX3fKMmC0",
        "outputId": "1281549e-9442-4fc9-c698-746783f599ef"
      },
      "execution_count": 5,
      "outputs": [
        {
          "output_type": "execute_result",
          "data": {
            "text/plain": [
              "     emotion_utterance_ID   emotion  \\\n",
              "0                dia1utt3  surprise   \n",
              "1                dia1utt4  surprise   \n",
              "2                dia1utt5     anger   \n",
              "3                dia2utt1   sadness   \n",
              "4                dia2utt3  surprise   \n",
              "...                   ...       ...   \n",
              "6756         dia1360utt11     anger   \n",
              "6757          dia1371utt1       joy   \n",
              "6758          dia1371utt6     anger   \n",
              "6759          dia1374utt2  surprise   \n",
              "6760          dia1374utt4       joy   \n",
              "\n",
              "                                           conversation  \\\n",
              "0     [{'utterance_ID': 1, 'text': 'Alright , so I a...   \n",
              "1     [{'utterance_ID': 1, 'text': 'Alright , so I a...   \n",
              "2     [{'utterance_ID': 1, 'text': 'Alright , so I a...   \n",
              "3     [{'utterance_ID': 1, 'text': 'I do not want to...   \n",
              "4     [{'utterance_ID': 1, 'text': 'I do not want to...   \n",
              "...                                                 ...   \n",
              "6756  [{'utterance_ID': 1, 'text': 'Wow ! Fortunatel...   \n",
              "6757  [{'utterance_ID': 1, 'text': 'Ooh ! I am sorry...   \n",
              "6758  [{'utterance_ID': 1, 'text': 'Ooh ! I am sorry...   \n",
              "6759  [{'utterance_ID': 1, 'text': 'I never sucked ,...   \n",
              "6760  [{'utterance_ID': 1, 'text': 'I never sucked ,...   \n",
              "\n",
              "                                            cause_spans  \n",
              "0     [1_I realize I am totally naked ., 3_Then I lo...  \n",
              "1     [1_I realize I am totally naked ., 3_Then I lo...  \n",
              "2     [1_I realize I am totally naked ., 3_Then I lo...  \n",
              "3                        [1_I do not want to be single]  \n",
              "4                                        [3_Rachel ? !]  \n",
              "...                                                 ...  \n",
              "6756          [10_keep having sex on a regular basis .]  \n",
              "6757               [1_that may have missed the table !]  \n",
              "6758               [1_that may have missed the table !]  \n",
              "6759  [1_I never sucked , I actually did not want yo...  \n",
              "6760    [4_Now we can enter into doubles tournaments !]  \n",
              "\n",
              "[6761 rows x 4 columns]"
            ],
            "text/html": [
              "\n",
              "  <div id=\"df-797ca7c6-b035-40c5-9065-c54afc1464d2\" class=\"colab-df-container\">\n",
              "    <div>\n",
              "<style scoped>\n",
              "    .dataframe tbody tr th:only-of-type {\n",
              "        vertical-align: middle;\n",
              "    }\n",
              "\n",
              "    .dataframe tbody tr th {\n",
              "        vertical-align: top;\n",
              "    }\n",
              "\n",
              "    .dataframe thead th {\n",
              "        text-align: right;\n",
              "    }\n",
              "</style>\n",
              "<table border=\"1\" class=\"dataframe\">\n",
              "  <thead>\n",
              "    <tr style=\"text-align: right;\">\n",
              "      <th></th>\n",
              "      <th>emotion_utterance_ID</th>\n",
              "      <th>emotion</th>\n",
              "      <th>conversation</th>\n",
              "      <th>cause_spans</th>\n",
              "    </tr>\n",
              "  </thead>\n",
              "  <tbody>\n",
              "    <tr>\n",
              "      <th>0</th>\n",
              "      <td>dia1utt3</td>\n",
              "      <td>surprise</td>\n",
              "      <td>[{'utterance_ID': 1, 'text': 'Alright , so I a...</td>\n",
              "      <td>[1_I realize I am totally naked ., 3_Then I lo...</td>\n",
              "    </tr>\n",
              "    <tr>\n",
              "      <th>1</th>\n",
              "      <td>dia1utt4</td>\n",
              "      <td>surprise</td>\n",
              "      <td>[{'utterance_ID': 1, 'text': 'Alright , so I a...</td>\n",
              "      <td>[1_I realize I am totally naked ., 3_Then I lo...</td>\n",
              "    </tr>\n",
              "    <tr>\n",
              "      <th>2</th>\n",
              "      <td>dia1utt5</td>\n",
              "      <td>anger</td>\n",
              "      <td>[{'utterance_ID': 1, 'text': 'Alright , so I a...</td>\n",
              "      <td>[1_I realize I am totally naked ., 3_Then I lo...</td>\n",
              "    </tr>\n",
              "    <tr>\n",
              "      <th>3</th>\n",
              "      <td>dia2utt1</td>\n",
              "      <td>sadness</td>\n",
              "      <td>[{'utterance_ID': 1, 'text': 'I do not want to...</td>\n",
              "      <td>[1_I do not want to be single]</td>\n",
              "    </tr>\n",
              "    <tr>\n",
              "      <th>4</th>\n",
              "      <td>dia2utt3</td>\n",
              "      <td>surprise</td>\n",
              "      <td>[{'utterance_ID': 1, 'text': 'I do not want to...</td>\n",
              "      <td>[3_Rachel ? !]</td>\n",
              "    </tr>\n",
              "    <tr>\n",
              "      <th>...</th>\n",
              "      <td>...</td>\n",
              "      <td>...</td>\n",
              "      <td>...</td>\n",
              "      <td>...</td>\n",
              "    </tr>\n",
              "    <tr>\n",
              "      <th>6756</th>\n",
              "      <td>dia1360utt11</td>\n",
              "      <td>anger</td>\n",
              "      <td>[{'utterance_ID': 1, 'text': 'Wow ! Fortunatel...</td>\n",
              "      <td>[10_keep having sex on a regular basis .]</td>\n",
              "    </tr>\n",
              "    <tr>\n",
              "      <th>6757</th>\n",
              "      <td>dia1371utt1</td>\n",
              "      <td>joy</td>\n",
              "      <td>[{'utterance_ID': 1, 'text': 'Ooh ! I am sorry...</td>\n",
              "      <td>[1_that may have missed the table !]</td>\n",
              "    </tr>\n",
              "    <tr>\n",
              "      <th>6758</th>\n",
              "      <td>dia1371utt6</td>\n",
              "      <td>anger</td>\n",
              "      <td>[{'utterance_ID': 1, 'text': 'Ooh ! I am sorry...</td>\n",
              "      <td>[1_that may have missed the table !]</td>\n",
              "    </tr>\n",
              "    <tr>\n",
              "      <th>6759</th>\n",
              "      <td>dia1374utt2</td>\n",
              "      <td>surprise</td>\n",
              "      <td>[{'utterance_ID': 1, 'text': 'I never sucked ,...</td>\n",
              "      <td>[1_I never sucked , I actually did not want yo...</td>\n",
              "    </tr>\n",
              "    <tr>\n",
              "      <th>6760</th>\n",
              "      <td>dia1374utt4</td>\n",
              "      <td>joy</td>\n",
              "      <td>[{'utterance_ID': 1, 'text': 'I never sucked ,...</td>\n",
              "      <td>[4_Now we can enter into doubles tournaments !]</td>\n",
              "    </tr>\n",
              "  </tbody>\n",
              "</table>\n",
              "<p>6761 rows × 4 columns</p>\n",
              "</div>\n",
              "    <div class=\"colab-df-buttons\">\n",
              "\n",
              "  <div class=\"colab-df-container\">\n",
              "    <button class=\"colab-df-convert\" onclick=\"convertToInteractive('df-797ca7c6-b035-40c5-9065-c54afc1464d2')\"\n",
              "            title=\"Convert this dataframe to an interactive table.\"\n",
              "            style=\"display:none;\">\n",
              "\n",
              "  <svg xmlns=\"http://www.w3.org/2000/svg\" height=\"24px\" viewBox=\"0 -960 960 960\">\n",
              "    <path d=\"M120-120v-720h720v720H120Zm60-500h600v-160H180v160Zm220 220h160v-160H400v160Zm0 220h160v-160H400v160ZM180-400h160v-160H180v160Zm440 0h160v-160H620v160ZM180-180h160v-160H180v160Zm440 0h160v-160H620v160Z\"/>\n",
              "  </svg>\n",
              "    </button>\n",
              "\n",
              "  <style>\n",
              "    .colab-df-container {\n",
              "      display:flex;\n",
              "      gap: 12px;\n",
              "    }\n",
              "\n",
              "    .colab-df-convert {\n",
              "      background-color: #E8F0FE;\n",
              "      border: none;\n",
              "      border-radius: 50%;\n",
              "      cursor: pointer;\n",
              "      display: none;\n",
              "      fill: #1967D2;\n",
              "      height: 32px;\n",
              "      padding: 0 0 0 0;\n",
              "      width: 32px;\n",
              "    }\n",
              "\n",
              "    .colab-df-convert:hover {\n",
              "      background-color: #E2EBFA;\n",
              "      box-shadow: 0px 1px 2px rgba(60, 64, 67, 0.3), 0px 1px 3px 1px rgba(60, 64, 67, 0.15);\n",
              "      fill: #174EA6;\n",
              "    }\n",
              "\n",
              "    .colab-df-buttons div {\n",
              "      margin-bottom: 4px;\n",
              "    }\n",
              "\n",
              "    [theme=dark] .colab-df-convert {\n",
              "      background-color: #3B4455;\n",
              "      fill: #D2E3FC;\n",
              "    }\n",
              "\n",
              "    [theme=dark] .colab-df-convert:hover {\n",
              "      background-color: #434B5C;\n",
              "      box-shadow: 0px 1px 3px 1px rgba(0, 0, 0, 0.15);\n",
              "      filter: drop-shadow(0px 1px 2px rgba(0, 0, 0, 0.3));\n",
              "      fill: #FFFFFF;\n",
              "    }\n",
              "  </style>\n",
              "\n",
              "    <script>\n",
              "      const buttonEl =\n",
              "        document.querySelector('#df-797ca7c6-b035-40c5-9065-c54afc1464d2 button.colab-df-convert');\n",
              "      buttonEl.style.display =\n",
              "        google.colab.kernel.accessAllowed ? 'block' : 'none';\n",
              "\n",
              "      async function convertToInteractive(key) {\n",
              "        const element = document.querySelector('#df-797ca7c6-b035-40c5-9065-c54afc1464d2');\n",
              "        const dataTable =\n",
              "          await google.colab.kernel.invokeFunction('convertToInteractive',\n",
              "                                                    [key], {});\n",
              "        if (!dataTable) return;\n",
              "\n",
              "        const docLinkHtml = 'Like what you see? Visit the ' +\n",
              "          '<a target=\"_blank\" href=https://colab.research.google.com/notebooks/data_table.ipynb>data table notebook</a>'\n",
              "          + ' to learn more about interactive tables.';\n",
              "        element.innerHTML = '';\n",
              "        dataTable['output_type'] = 'display_data';\n",
              "        await google.colab.output.renderOutput(dataTable, element);\n",
              "        const docLink = document.createElement('div');\n",
              "        docLink.innerHTML = docLinkHtml;\n",
              "        element.appendChild(docLink);\n",
              "      }\n",
              "    </script>\n",
              "  </div>\n",
              "\n",
              "\n",
              "<div id=\"df-5afaaec4-83e3-48f0-84ec-264185119874\">\n",
              "  <button class=\"colab-df-quickchart\" onclick=\"quickchart('df-5afaaec4-83e3-48f0-84ec-264185119874')\"\n",
              "            title=\"Suggest charts\"\n",
              "            style=\"display:none;\">\n",
              "\n",
              "<svg xmlns=\"http://www.w3.org/2000/svg\" height=\"24px\"viewBox=\"0 0 24 24\"\n",
              "     width=\"24px\">\n",
              "    <g>\n",
              "        <path d=\"M19 3H5c-1.1 0-2 .9-2 2v14c0 1.1.9 2 2 2h14c1.1 0 2-.9 2-2V5c0-1.1-.9-2-2-2zM9 17H7v-7h2v7zm4 0h-2V7h2v10zm4 0h-2v-4h2v4z\"/>\n",
              "    </g>\n",
              "</svg>\n",
              "  </button>\n",
              "\n",
              "<style>\n",
              "  .colab-df-quickchart {\n",
              "      --bg-color: #E8F0FE;\n",
              "      --fill-color: #1967D2;\n",
              "      --hover-bg-color: #E2EBFA;\n",
              "      --hover-fill-color: #174EA6;\n",
              "      --disabled-fill-color: #AAA;\n",
              "      --disabled-bg-color: #DDD;\n",
              "  }\n",
              "\n",
              "  [theme=dark] .colab-df-quickchart {\n",
              "      --bg-color: #3B4455;\n",
              "      --fill-color: #D2E3FC;\n",
              "      --hover-bg-color: #434B5C;\n",
              "      --hover-fill-color: #FFFFFF;\n",
              "      --disabled-bg-color: #3B4455;\n",
              "      --disabled-fill-color: #666;\n",
              "  }\n",
              "\n",
              "  .colab-df-quickchart {\n",
              "    background-color: var(--bg-color);\n",
              "    border: none;\n",
              "    border-radius: 50%;\n",
              "    cursor: pointer;\n",
              "    display: none;\n",
              "    fill: var(--fill-color);\n",
              "    height: 32px;\n",
              "    padding: 0;\n",
              "    width: 32px;\n",
              "  }\n",
              "\n",
              "  .colab-df-quickchart:hover {\n",
              "    background-color: var(--hover-bg-color);\n",
              "    box-shadow: 0 1px 2px rgba(60, 64, 67, 0.3), 0 1px 3px 1px rgba(60, 64, 67, 0.15);\n",
              "    fill: var(--button-hover-fill-color);\n",
              "  }\n",
              "\n",
              "  .colab-df-quickchart-complete:disabled,\n",
              "  .colab-df-quickchart-complete:disabled:hover {\n",
              "    background-color: var(--disabled-bg-color);\n",
              "    fill: var(--disabled-fill-color);\n",
              "    box-shadow: none;\n",
              "  }\n",
              "\n",
              "  .colab-df-spinner {\n",
              "    border: 2px solid var(--fill-color);\n",
              "    border-color: transparent;\n",
              "    border-bottom-color: var(--fill-color);\n",
              "    animation:\n",
              "      spin 1s steps(1) infinite;\n",
              "  }\n",
              "\n",
              "  @keyframes spin {\n",
              "    0% {\n",
              "      border-color: transparent;\n",
              "      border-bottom-color: var(--fill-color);\n",
              "      border-left-color: var(--fill-color);\n",
              "    }\n",
              "    20% {\n",
              "      border-color: transparent;\n",
              "      border-left-color: var(--fill-color);\n",
              "      border-top-color: var(--fill-color);\n",
              "    }\n",
              "    30% {\n",
              "      border-color: transparent;\n",
              "      border-left-color: var(--fill-color);\n",
              "      border-top-color: var(--fill-color);\n",
              "      border-right-color: var(--fill-color);\n",
              "    }\n",
              "    40% {\n",
              "      border-color: transparent;\n",
              "      border-right-color: var(--fill-color);\n",
              "      border-top-color: var(--fill-color);\n",
              "    }\n",
              "    60% {\n",
              "      border-color: transparent;\n",
              "      border-right-color: var(--fill-color);\n",
              "    }\n",
              "    80% {\n",
              "      border-color: transparent;\n",
              "      border-right-color: var(--fill-color);\n",
              "      border-bottom-color: var(--fill-color);\n",
              "    }\n",
              "    90% {\n",
              "      border-color: transparent;\n",
              "      border-bottom-color: var(--fill-color);\n",
              "    }\n",
              "  }\n",
              "</style>\n",
              "\n",
              "  <script>\n",
              "    async function quickchart(key) {\n",
              "      const quickchartButtonEl =\n",
              "        document.querySelector('#' + key + ' button');\n",
              "      quickchartButtonEl.disabled = true;  // To prevent multiple clicks.\n",
              "      quickchartButtonEl.classList.add('colab-df-spinner');\n",
              "      try {\n",
              "        const charts = await google.colab.kernel.invokeFunction(\n",
              "            'suggestCharts', [key], {});\n",
              "      } catch (error) {\n",
              "        console.error('Error during call to suggestCharts:', error);\n",
              "      }\n",
              "      quickchartButtonEl.classList.remove('colab-df-spinner');\n",
              "      quickchartButtonEl.classList.add('colab-df-quickchart-complete');\n",
              "    }\n",
              "    (() => {\n",
              "      let quickchartButtonEl =\n",
              "        document.querySelector('#df-5afaaec4-83e3-48f0-84ec-264185119874 button');\n",
              "      quickchartButtonEl.style.display =\n",
              "        google.colab.kernel.accessAllowed ? 'block' : 'none';\n",
              "    })();\n",
              "  </script>\n",
              "</div>\n",
              "\n",
              "  <div id=\"id_e77a51ef-3532-4fe5-95e0-2ad0d3c25fa8\">\n",
              "    <style>\n",
              "      .colab-df-generate {\n",
              "        background-color: #E8F0FE;\n",
              "        border: none;\n",
              "        border-radius: 50%;\n",
              "        cursor: pointer;\n",
              "        display: none;\n",
              "        fill: #1967D2;\n",
              "        height: 32px;\n",
              "        padding: 0 0 0 0;\n",
              "        width: 32px;\n",
              "      }\n",
              "\n",
              "      .colab-df-generate:hover {\n",
              "        background-color: #E2EBFA;\n",
              "        box-shadow: 0px 1px 2px rgba(60, 64, 67, 0.3), 0px 1px 3px 1px rgba(60, 64, 67, 0.15);\n",
              "        fill: #174EA6;\n",
              "      }\n",
              "\n",
              "      [theme=dark] .colab-df-generate {\n",
              "        background-color: #3B4455;\n",
              "        fill: #D2E3FC;\n",
              "      }\n",
              "\n",
              "      [theme=dark] .colab-df-generate:hover {\n",
              "        background-color: #434B5C;\n",
              "        box-shadow: 0px 1px 3px 1px rgba(0, 0, 0, 0.15);\n",
              "        filter: drop-shadow(0px 1px 2px rgba(0, 0, 0, 0.3));\n",
              "        fill: #FFFFFF;\n",
              "      }\n",
              "    </style>\n",
              "    <button class=\"colab-df-generate\" onclick=\"generateWithVariable('d')\"\n",
              "            title=\"Generate code using this dataframe.\"\n",
              "            style=\"display:none;\">\n",
              "\n",
              "  <svg xmlns=\"http://www.w3.org/2000/svg\" height=\"24px\"viewBox=\"0 0 24 24\"\n",
              "       width=\"24px\">\n",
              "    <path d=\"M7,19H8.4L18.45,9,17,7.55,7,17.6ZM5,21V16.75L18.45,3.32a2,2,0,0,1,2.83,0l1.4,1.43a1.91,1.91,0,0,1,.58,1.4,1.91,1.91,0,0,1-.58,1.4L9.25,21ZM18.45,9,17,7.55Zm-12,3A5.31,5.31,0,0,0,4.9,8.1,5.31,5.31,0,0,0,1,6.5,5.31,5.31,0,0,0,4.9,4.9,5.31,5.31,0,0,0,6.5,1,5.31,5.31,0,0,0,8.1,4.9,5.31,5.31,0,0,0,12,6.5,5.46,5.46,0,0,0,6.5,12Z\"/>\n",
              "  </svg>\n",
              "    </button>\n",
              "    <script>\n",
              "      (() => {\n",
              "      const buttonEl =\n",
              "        document.querySelector('#id_e77a51ef-3532-4fe5-95e0-2ad0d3c25fa8 button.colab-df-generate');\n",
              "      buttonEl.style.display =\n",
              "        google.colab.kernel.accessAllowed ? 'block' : 'none';\n",
              "\n",
              "      buttonEl.onclick = () => {\n",
              "        google.colab.notebook.generateWithVariable('d');\n",
              "      }\n",
              "      })();\n",
              "    </script>\n",
              "  </div>\n",
              "\n",
              "    </div>\n",
              "  </div>\n"
            ]
          },
          "metadata": {},
          "execution_count": 5
        }
      ]
    },
    {
      "cell_type": "code",
      "source": [
        "tagging_data = d\n",
        "x = tagging_data[\"emotion_utterance_ID\"].str.extract(r\"dia([\\d]+)utt([\\d]+)\", expand=False)\n",
        "tagging_data[\"dialogue_ID\"], tagging_data[\"emotion_ID\"] = x[0].astype(int), x[1].astype(int)\n",
        "tagging_data[\"dialogue_ID\"], tagging_data[\"emotion_ID\"]"
      ],
      "metadata": {
        "colab": {
          "base_uri": "https://localhost:8080/"
        },
        "id": "SWNQfC-NNNWV",
        "outputId": "6b981fdf-8dd6-455f-a6db-c7cef0ac7651"
      },
      "execution_count": 6,
      "outputs": [
        {
          "output_type": "execute_result",
          "data": {
            "text/plain": [
              "(0          1\n",
              " 1          1\n",
              " 2          1\n",
              " 3          2\n",
              " 4          2\n",
              "         ... \n",
              " 6756    1360\n",
              " 6757    1371\n",
              " 6758    1371\n",
              " 6759    1374\n",
              " 6760    1374\n",
              " Name: dialogue_ID, Length: 6761, dtype: int64,\n",
              " 0        3\n",
              " 1        4\n",
              " 2        5\n",
              " 3        1\n",
              " 4        3\n",
              "         ..\n",
              " 6756    11\n",
              " 6757     1\n",
              " 6758     6\n",
              " 6759     2\n",
              " 6760     4\n",
              " Name: emotion_ID, Length: 6761, dtype: int64)"
            ]
          },
          "metadata": {},
          "execution_count": 6
        }
      ]
    },
    {
      "cell_type": "code",
      "source": [
        "tagging_data[\"enc_cause_spans\"] = tagging_data[\"cause_spans\"].apply(lambda x: [int(y[0]) for y in x])\n",
        "tagging_data[\"enc_cause_spans\"]"
      ],
      "metadata": {
        "colab": {
          "base_uri": "https://localhost:8080/"
        },
        "id": "yq7dZRFHQvag",
        "outputId": "5f850531-6500-46b2-b1c0-de791d0cadb7"
      },
      "execution_count": 7,
      "outputs": [
        {
          "output_type": "execute_result",
          "data": {
            "text/plain": [
              "0          [1, 3]\n",
              "1       [1, 3, 4]\n",
              "2       [1, 3, 4]\n",
              "3             [1]\n",
              "4             [3]\n",
              "          ...    \n",
              "6756          [1]\n",
              "6757          [1]\n",
              "6758          [1]\n",
              "6759          [1]\n",
              "6760          [4]\n",
              "Name: enc_cause_spans, Length: 6761, dtype: object"
            ]
          },
          "metadata": {},
          "execution_count": 7
        }
      ]
    },
    {
      "cell_type": "code",
      "source": [
        "tagging_data[\"trunc_conversation\"] = tagging_data.apply(lambda x: [y for y in x[\"conversation\"] if y[\"utterance_ID\"] <= x[\"emotion_ID\"]], axis=1)\n",
        "tagging_data[\"trunc_conversation\"]"
      ],
      "metadata": {
        "colab": {
          "base_uri": "https://localhost:8080/"
        },
        "id": "liYru06zSEs5",
        "outputId": "daab80c3-c06c-4016-c0c6-8bd81068ce80"
      },
      "execution_count": 8,
      "outputs": [
        {
          "output_type": "execute_result",
          "data": {
            "text/plain": [
              "0       [{'utterance_ID': 1, 'text': 'Alright , so I a...\n",
              "1       [{'utterance_ID': 1, 'text': 'Alright , so I a...\n",
              "2       [{'utterance_ID': 1, 'text': 'Alright , so I a...\n",
              "3       [{'utterance_ID': 1, 'text': 'I do not want to...\n",
              "4       [{'utterance_ID': 1, 'text': 'I do not want to...\n",
              "                              ...                        \n",
              "6756    [{'utterance_ID': 1, 'text': 'Wow ! Fortunatel...\n",
              "6757    [{'utterance_ID': 1, 'text': 'Ooh ! I am sorry...\n",
              "6758    [{'utterance_ID': 1, 'text': 'Ooh ! I am sorry...\n",
              "6759    [{'utterance_ID': 1, 'text': 'I never sucked ,...\n",
              "6760    [{'utterance_ID': 1, 'text': 'I never sucked ,...\n",
              "Name: trunc_conversation, Length: 6761, dtype: object"
            ]
          },
          "metadata": {},
          "execution_count": 8
        }
      ]
    },
    {
      "cell_type": "code",
      "source": [
        "#sanity check\n",
        "tagging_data[\"trunc_conversation\"].iloc[0], tagging_data[\"trunc_conversation\"].iloc[1]"
      ],
      "metadata": {
        "colab": {
          "base_uri": "https://localhost:8080/"
        },
        "id": "huF4LIEeSxyo",
        "outputId": "7468bbe6-e901-4ea9-e2ae-140bdba40f58"
      },
      "execution_count": 9,
      "outputs": [
        {
          "output_type": "execute_result",
          "data": {
            "text/plain": [
              "([{'utterance_ID': 1,\n",
              "   'text': 'Alright , so I am back in high school , I am standing in the middle of the cafeteria , and I realize I am totally naked .',\n",
              "   'speaker': 'Chandler',\n",
              "   'emotion': 'neutral'},\n",
              "  {'utterance_ID': 2,\n",
              "   'text': 'Oh , yeah . Had that dream .',\n",
              "   'speaker': 'All',\n",
              "   'emotion': 'neutral'},\n",
              "  {'utterance_ID': 3,\n",
              "   'text': 'Then I look down , and I realize there is a phone ... there .',\n",
              "   'speaker': 'Chandler',\n",
              "   'emotion': 'surprise'}],\n",
              " [{'utterance_ID': 1,\n",
              "   'text': 'Alright , so I am back in high school , I am standing in the middle of the cafeteria , and I realize I am totally naked .',\n",
              "   'speaker': 'Chandler',\n",
              "   'emotion': 'neutral'},\n",
              "  {'utterance_ID': 2,\n",
              "   'text': 'Oh , yeah . Had that dream .',\n",
              "   'speaker': 'All',\n",
              "   'emotion': 'neutral'},\n",
              "  {'utterance_ID': 3,\n",
              "   'text': 'Then I look down , and I realize there is a phone ... there .',\n",
              "   'speaker': 'Chandler',\n",
              "   'emotion': 'surprise'},\n",
              "  {'utterance_ID': 4,\n",
              "   'text': 'Instead of ... ?',\n",
              "   'speaker': 'Joey',\n",
              "   'emotion': 'surprise'}])"
            ]
          },
          "metadata": {},
          "execution_count": 9
        }
      ]
    },
    {
      "cell_type": "code",
      "source": [
        "tagging_data.drop(labels=[\"conversation\", \"emotion_utterance_ID\", \"cause_spans\"], axis=1, inplace=True)"
      ],
      "metadata": {
        "id": "Mk-xGqLlVD6k"
      },
      "execution_count": 10,
      "outputs": []
    },
    {
      "cell_type": "code",
      "source": [
        "tagging_data.rename(columns={\"emotion_ID\": \"utterance_ID\", \"enc_cause_spans\": \"cause_span\", \"trunc_conversation\":\"t_conv\"}, inplace=True)\n",
        "tagging_data"
      ],
      "metadata": {
        "colab": {
          "base_uri": "https://localhost:8080/",
          "height": 1724
        },
        "id": "J5320KVmVXBc",
        "outputId": "8ab51b0a-51c4-4226-d664-04a773a0ec47"
      },
      "execution_count": 11,
      "outputs": [
        {
          "output_type": "execute_result",
          "data": {
            "text/plain": [
              "       emotion  dialogue_ID  utterance_ID cause_span  \\\n",
              "0     surprise            1             3     [1, 3]   \n",
              "1     surprise            1             4  [1, 3, 4]   \n",
              "2        anger            1             5  [1, 3, 4]   \n",
              "3      sadness            2             1        [1]   \n",
              "4     surprise            2             3        [3]   \n",
              "...        ...          ...           ...        ...   \n",
              "6756     anger         1360            11        [1]   \n",
              "6757       joy         1371             1        [1]   \n",
              "6758     anger         1371             6        [1]   \n",
              "6759  surprise         1374             2        [1]   \n",
              "6760       joy         1374             4        [4]   \n",
              "\n",
              "                                                 t_conv  \n",
              "0     [{'utterance_ID': 1, 'text': 'Alright , so I a...  \n",
              "1     [{'utterance_ID': 1, 'text': 'Alright , so I a...  \n",
              "2     [{'utterance_ID': 1, 'text': 'Alright , so I a...  \n",
              "3     [{'utterance_ID': 1, 'text': 'I do not want to...  \n",
              "4     [{'utterance_ID': 1, 'text': 'I do not want to...  \n",
              "...                                                 ...  \n",
              "6756  [{'utterance_ID': 1, 'text': 'Wow ! Fortunatel...  \n",
              "6757  [{'utterance_ID': 1, 'text': 'Ooh ! I am sorry...  \n",
              "6758  [{'utterance_ID': 1, 'text': 'Ooh ! I am sorry...  \n",
              "6759  [{'utterance_ID': 1, 'text': 'I never sucked ,...  \n",
              "6760  [{'utterance_ID': 1, 'text': 'I never sucked ,...  \n",
              "\n",
              "[6761 rows x 5 columns]"
            ],
            "text/html": [
              "\n",
              "  <div id=\"df-e3c8e63c-0a86-4634-8011-5d31880e7857\" class=\"colab-df-container\">\n",
              "    <div>\n",
              "<style scoped>\n",
              "    .dataframe tbody tr th:only-of-type {\n",
              "        vertical-align: middle;\n",
              "    }\n",
              "\n",
              "    .dataframe tbody tr th {\n",
              "        vertical-align: top;\n",
              "    }\n",
              "\n",
              "    .dataframe thead th {\n",
              "        text-align: right;\n",
              "    }\n",
              "</style>\n",
              "<table border=\"1\" class=\"dataframe\">\n",
              "  <thead>\n",
              "    <tr style=\"text-align: right;\">\n",
              "      <th></th>\n",
              "      <th>emotion</th>\n",
              "      <th>dialogue_ID</th>\n",
              "      <th>utterance_ID</th>\n",
              "      <th>cause_span</th>\n",
              "      <th>t_conv</th>\n",
              "    </tr>\n",
              "  </thead>\n",
              "  <tbody>\n",
              "    <tr>\n",
              "      <th>0</th>\n",
              "      <td>surprise</td>\n",
              "      <td>1</td>\n",
              "      <td>3</td>\n",
              "      <td>[1, 3]</td>\n",
              "      <td>[{'utterance_ID': 1, 'text': 'Alright , so I a...</td>\n",
              "    </tr>\n",
              "    <tr>\n",
              "      <th>1</th>\n",
              "      <td>surprise</td>\n",
              "      <td>1</td>\n",
              "      <td>4</td>\n",
              "      <td>[1, 3, 4]</td>\n",
              "      <td>[{'utterance_ID': 1, 'text': 'Alright , so I a...</td>\n",
              "    </tr>\n",
              "    <tr>\n",
              "      <th>2</th>\n",
              "      <td>anger</td>\n",
              "      <td>1</td>\n",
              "      <td>5</td>\n",
              "      <td>[1, 3, 4]</td>\n",
              "      <td>[{'utterance_ID': 1, 'text': 'Alright , so I a...</td>\n",
              "    </tr>\n",
              "    <tr>\n",
              "      <th>3</th>\n",
              "      <td>sadness</td>\n",
              "      <td>2</td>\n",
              "      <td>1</td>\n",
              "      <td>[1]</td>\n",
              "      <td>[{'utterance_ID': 1, 'text': 'I do not want to...</td>\n",
              "    </tr>\n",
              "    <tr>\n",
              "      <th>4</th>\n",
              "      <td>surprise</td>\n",
              "      <td>2</td>\n",
              "      <td>3</td>\n",
              "      <td>[3]</td>\n",
              "      <td>[{'utterance_ID': 1, 'text': 'I do not want to...</td>\n",
              "    </tr>\n",
              "    <tr>\n",
              "      <th>...</th>\n",
              "      <td>...</td>\n",
              "      <td>...</td>\n",
              "      <td>...</td>\n",
              "      <td>...</td>\n",
              "      <td>...</td>\n",
              "    </tr>\n",
              "    <tr>\n",
              "      <th>6756</th>\n",
              "      <td>anger</td>\n",
              "      <td>1360</td>\n",
              "      <td>11</td>\n",
              "      <td>[1]</td>\n",
              "      <td>[{'utterance_ID': 1, 'text': 'Wow ! Fortunatel...</td>\n",
              "    </tr>\n",
              "    <tr>\n",
              "      <th>6757</th>\n",
              "      <td>joy</td>\n",
              "      <td>1371</td>\n",
              "      <td>1</td>\n",
              "      <td>[1]</td>\n",
              "      <td>[{'utterance_ID': 1, 'text': 'Ooh ! I am sorry...</td>\n",
              "    </tr>\n",
              "    <tr>\n",
              "      <th>6758</th>\n",
              "      <td>anger</td>\n",
              "      <td>1371</td>\n",
              "      <td>6</td>\n",
              "      <td>[1]</td>\n",
              "      <td>[{'utterance_ID': 1, 'text': 'Ooh ! I am sorry...</td>\n",
              "    </tr>\n",
              "    <tr>\n",
              "      <th>6759</th>\n",
              "      <td>surprise</td>\n",
              "      <td>1374</td>\n",
              "      <td>2</td>\n",
              "      <td>[1]</td>\n",
              "      <td>[{'utterance_ID': 1, 'text': 'I never sucked ,...</td>\n",
              "    </tr>\n",
              "    <tr>\n",
              "      <th>6760</th>\n",
              "      <td>joy</td>\n",
              "      <td>1374</td>\n",
              "      <td>4</td>\n",
              "      <td>[4]</td>\n",
              "      <td>[{'utterance_ID': 1, 'text': 'I never sucked ,...</td>\n",
              "    </tr>\n",
              "  </tbody>\n",
              "</table>\n",
              "<p>6761 rows × 5 columns</p>\n",
              "</div>\n",
              "    <div class=\"colab-df-buttons\">\n",
              "\n",
              "  <div class=\"colab-df-container\">\n",
              "    <button class=\"colab-df-convert\" onclick=\"convertToInteractive('df-e3c8e63c-0a86-4634-8011-5d31880e7857')\"\n",
              "            title=\"Convert this dataframe to an interactive table.\"\n",
              "            style=\"display:none;\">\n",
              "\n",
              "  <svg xmlns=\"http://www.w3.org/2000/svg\" height=\"24px\" viewBox=\"0 -960 960 960\">\n",
              "    <path d=\"M120-120v-720h720v720H120Zm60-500h600v-160H180v160Zm220 220h160v-160H400v160Zm0 220h160v-160H400v160ZM180-400h160v-160H180v160Zm440 0h160v-160H620v160ZM180-180h160v-160H180v160Zm440 0h160v-160H620v160Z\"/>\n",
              "  </svg>\n",
              "    </button>\n",
              "\n",
              "  <style>\n",
              "    .colab-df-container {\n",
              "      display:flex;\n",
              "      gap: 12px;\n",
              "    }\n",
              "\n",
              "    .colab-df-convert {\n",
              "      background-color: #E8F0FE;\n",
              "      border: none;\n",
              "      border-radius: 50%;\n",
              "      cursor: pointer;\n",
              "      display: none;\n",
              "      fill: #1967D2;\n",
              "      height: 32px;\n",
              "      padding: 0 0 0 0;\n",
              "      width: 32px;\n",
              "    }\n",
              "\n",
              "    .colab-df-convert:hover {\n",
              "      background-color: #E2EBFA;\n",
              "      box-shadow: 0px 1px 2px rgba(60, 64, 67, 0.3), 0px 1px 3px 1px rgba(60, 64, 67, 0.15);\n",
              "      fill: #174EA6;\n",
              "    }\n",
              "\n",
              "    .colab-df-buttons div {\n",
              "      margin-bottom: 4px;\n",
              "    }\n",
              "\n",
              "    [theme=dark] .colab-df-convert {\n",
              "      background-color: #3B4455;\n",
              "      fill: #D2E3FC;\n",
              "    }\n",
              "\n",
              "    [theme=dark] .colab-df-convert:hover {\n",
              "      background-color: #434B5C;\n",
              "      box-shadow: 0px 1px 3px 1px rgba(0, 0, 0, 0.15);\n",
              "      filter: drop-shadow(0px 1px 2px rgba(0, 0, 0, 0.3));\n",
              "      fill: #FFFFFF;\n",
              "    }\n",
              "  </style>\n",
              "\n",
              "    <script>\n",
              "      const buttonEl =\n",
              "        document.querySelector('#df-e3c8e63c-0a86-4634-8011-5d31880e7857 button.colab-df-convert');\n",
              "      buttonEl.style.display =\n",
              "        google.colab.kernel.accessAllowed ? 'block' : 'none';\n",
              "\n",
              "      async function convertToInteractive(key) {\n",
              "        const element = document.querySelector('#df-e3c8e63c-0a86-4634-8011-5d31880e7857');\n",
              "        const dataTable =\n",
              "          await google.colab.kernel.invokeFunction('convertToInteractive',\n",
              "                                                    [key], {});\n",
              "        if (!dataTable) return;\n",
              "\n",
              "        const docLinkHtml = 'Like what you see? Visit the ' +\n",
              "          '<a target=\"_blank\" href=https://colab.research.google.com/notebooks/data_table.ipynb>data table notebook</a>'\n",
              "          + ' to learn more about interactive tables.';\n",
              "        element.innerHTML = '';\n",
              "        dataTable['output_type'] = 'display_data';\n",
              "        await google.colab.output.renderOutput(dataTable, element);\n",
              "        const docLink = document.createElement('div');\n",
              "        docLink.innerHTML = docLinkHtml;\n",
              "        element.appendChild(docLink);\n",
              "      }\n",
              "    </script>\n",
              "  </div>\n",
              "\n",
              "\n",
              "<div id=\"df-ac810fa6-309f-4703-952a-8d2551225c1a\">\n",
              "  <button class=\"colab-df-quickchart\" onclick=\"quickchart('df-ac810fa6-309f-4703-952a-8d2551225c1a')\"\n",
              "            title=\"Suggest charts\"\n",
              "            style=\"display:none;\">\n",
              "\n",
              "<svg xmlns=\"http://www.w3.org/2000/svg\" height=\"24px\"viewBox=\"0 0 24 24\"\n",
              "     width=\"24px\">\n",
              "    <g>\n",
              "        <path d=\"M19 3H5c-1.1 0-2 .9-2 2v14c0 1.1.9 2 2 2h14c1.1 0 2-.9 2-2V5c0-1.1-.9-2-2-2zM9 17H7v-7h2v7zm4 0h-2V7h2v10zm4 0h-2v-4h2v4z\"/>\n",
              "    </g>\n",
              "</svg>\n",
              "  </button>\n",
              "\n",
              "<style>\n",
              "  .colab-df-quickchart {\n",
              "      --bg-color: #E8F0FE;\n",
              "      --fill-color: #1967D2;\n",
              "      --hover-bg-color: #E2EBFA;\n",
              "      --hover-fill-color: #174EA6;\n",
              "      --disabled-fill-color: #AAA;\n",
              "      --disabled-bg-color: #DDD;\n",
              "  }\n",
              "\n",
              "  [theme=dark] .colab-df-quickchart {\n",
              "      --bg-color: #3B4455;\n",
              "      --fill-color: #D2E3FC;\n",
              "      --hover-bg-color: #434B5C;\n",
              "      --hover-fill-color: #FFFFFF;\n",
              "      --disabled-bg-color: #3B4455;\n",
              "      --disabled-fill-color: #666;\n",
              "  }\n",
              "\n",
              "  .colab-df-quickchart {\n",
              "    background-color: var(--bg-color);\n",
              "    border: none;\n",
              "    border-radius: 50%;\n",
              "    cursor: pointer;\n",
              "    display: none;\n",
              "    fill: var(--fill-color);\n",
              "    height: 32px;\n",
              "    padding: 0;\n",
              "    width: 32px;\n",
              "  }\n",
              "\n",
              "  .colab-df-quickchart:hover {\n",
              "    background-color: var(--hover-bg-color);\n",
              "    box-shadow: 0 1px 2px rgba(60, 64, 67, 0.3), 0 1px 3px 1px rgba(60, 64, 67, 0.15);\n",
              "    fill: var(--button-hover-fill-color);\n",
              "  }\n",
              "\n",
              "  .colab-df-quickchart-complete:disabled,\n",
              "  .colab-df-quickchart-complete:disabled:hover {\n",
              "    background-color: var(--disabled-bg-color);\n",
              "    fill: var(--disabled-fill-color);\n",
              "    box-shadow: none;\n",
              "  }\n",
              "\n",
              "  .colab-df-spinner {\n",
              "    border: 2px solid var(--fill-color);\n",
              "    border-color: transparent;\n",
              "    border-bottom-color: var(--fill-color);\n",
              "    animation:\n",
              "      spin 1s steps(1) infinite;\n",
              "  }\n",
              "\n",
              "  @keyframes spin {\n",
              "    0% {\n",
              "      border-color: transparent;\n",
              "      border-bottom-color: var(--fill-color);\n",
              "      border-left-color: var(--fill-color);\n",
              "    }\n",
              "    20% {\n",
              "      border-color: transparent;\n",
              "      border-left-color: var(--fill-color);\n",
              "      border-top-color: var(--fill-color);\n",
              "    }\n",
              "    30% {\n",
              "      border-color: transparent;\n",
              "      border-left-color: var(--fill-color);\n",
              "      border-top-color: var(--fill-color);\n",
              "      border-right-color: var(--fill-color);\n",
              "    }\n",
              "    40% {\n",
              "      border-color: transparent;\n",
              "      border-right-color: var(--fill-color);\n",
              "      border-top-color: var(--fill-color);\n",
              "    }\n",
              "    60% {\n",
              "      border-color: transparent;\n",
              "      border-right-color: var(--fill-color);\n",
              "    }\n",
              "    80% {\n",
              "      border-color: transparent;\n",
              "      border-right-color: var(--fill-color);\n",
              "      border-bottom-color: var(--fill-color);\n",
              "    }\n",
              "    90% {\n",
              "      border-color: transparent;\n",
              "      border-bottom-color: var(--fill-color);\n",
              "    }\n",
              "  }\n",
              "</style>\n",
              "\n",
              "  <script>\n",
              "    async function quickchart(key) {\n",
              "      const quickchartButtonEl =\n",
              "        document.querySelector('#' + key + ' button');\n",
              "      quickchartButtonEl.disabled = true;  // To prevent multiple clicks.\n",
              "      quickchartButtonEl.classList.add('colab-df-spinner');\n",
              "      try {\n",
              "        const charts = await google.colab.kernel.invokeFunction(\n",
              "            'suggestCharts', [key], {});\n",
              "      } catch (error) {\n",
              "        console.error('Error during call to suggestCharts:', error);\n",
              "      }\n",
              "      quickchartButtonEl.classList.remove('colab-df-spinner');\n",
              "      quickchartButtonEl.classList.add('colab-df-quickchart-complete');\n",
              "    }\n",
              "    (() => {\n",
              "      let quickchartButtonEl =\n",
              "        document.querySelector('#df-ac810fa6-309f-4703-952a-8d2551225c1a button');\n",
              "      quickchartButtonEl.style.display =\n",
              "        google.colab.kernel.accessAllowed ? 'block' : 'none';\n",
              "    })();\n",
              "  </script>\n",
              "</div>\n",
              "\n",
              "  <div id=\"id_037b80ee-02cb-44ad-bc78-63ef0f939955\">\n",
              "    <style>\n",
              "      .colab-df-generate {\n",
              "        background-color: #E8F0FE;\n",
              "        border: none;\n",
              "        border-radius: 50%;\n",
              "        cursor: pointer;\n",
              "        display: none;\n",
              "        fill: #1967D2;\n",
              "        height: 32px;\n",
              "        padding: 0 0 0 0;\n",
              "        width: 32px;\n",
              "      }\n",
              "\n",
              "      .colab-df-generate:hover {\n",
              "        background-color: #E2EBFA;\n",
              "        box-shadow: 0px 1px 2px rgba(60, 64, 67, 0.3), 0px 1px 3px 1px rgba(60, 64, 67, 0.15);\n",
              "        fill: #174EA6;\n",
              "      }\n",
              "\n",
              "      [theme=dark] .colab-df-generate {\n",
              "        background-color: #3B4455;\n",
              "        fill: #D2E3FC;\n",
              "      }\n",
              "\n",
              "      [theme=dark] .colab-df-generate:hover {\n",
              "        background-color: #434B5C;\n",
              "        box-shadow: 0px 1px 3px 1px rgba(0, 0, 0, 0.15);\n",
              "        filter: drop-shadow(0px 1px 2px rgba(0, 0, 0, 0.3));\n",
              "        fill: #FFFFFF;\n",
              "      }\n",
              "    </style>\n",
              "    <button class=\"colab-df-generate\" onclick=\"generateWithVariable('d')\"\n",
              "            title=\"Generate code using this dataframe.\"\n",
              "            style=\"display:none;\">\n",
              "\n",
              "  <svg xmlns=\"http://www.w3.org/2000/svg\" height=\"24px\"viewBox=\"0 0 24 24\"\n",
              "       width=\"24px\">\n",
              "    <path d=\"M7,19H8.4L18.45,9,17,7.55,7,17.6ZM5,21V16.75L18.45,3.32a2,2,0,0,1,2.83,0l1.4,1.43a1.91,1.91,0,0,1,.58,1.4,1.91,1.91,0,0,1-.58,1.4L9.25,21ZM18.45,9,17,7.55Zm-12,3A5.31,5.31,0,0,0,4.9,8.1,5.31,5.31,0,0,0,1,6.5,5.31,5.31,0,0,0,4.9,4.9,5.31,5.31,0,0,0,6.5,1,5.31,5.31,0,0,0,8.1,4.9,5.31,5.31,0,0,0,12,6.5,5.46,5.46,0,0,0,6.5,12Z\"/>\n",
              "  </svg>\n",
              "    </button>\n",
              "    <script>\n",
              "      (() => {\n",
              "      const buttonEl =\n",
              "        document.querySelector('#id_037b80ee-02cb-44ad-bc78-63ef0f939955 button.colab-df-generate');\n",
              "      buttonEl.style.display =\n",
              "        google.colab.kernel.accessAllowed ? 'block' : 'none';\n",
              "\n",
              "      buttonEl.onclick = () => {\n",
              "        google.colab.notebook.generateWithVariable('d');\n",
              "      }\n",
              "      })();\n",
              "    </script>\n",
              "  </div>\n",
              "\n",
              "    </div>\n",
              "  </div>\n"
            ]
          },
          "metadata": {},
          "execution_count": 11
        }
      ]
    },
    {
      "cell_type": "markdown",
      "source": [
        "### Find a way to encode the conversation data\n",
        "\n",
        "encoding must include,\n",
        "aggregation of word embeddings\n",
        "just concatenate the embeddings? to sentence embeddings?\n",
        "speaker embeddings\n",
        "emotion embeddings"
      ],
      "metadata": {
        "id": "-dJwEU1vV9nI"
      }
    },
    {
      "cell_type": "code",
      "source": [
        "tagging_data[\"concat_conv\"] = tagging_data[\"t_conv\"].apply(lambda x: [ {\"utterance_ID\": y[\"utterance_ID\"], \"data\":y[\"text\"]+\" \"+y[\"speaker\"]+\" \"+y[\"emotion\"]} for y in x])"
      ],
      "metadata": {
        "id": "basT1mHmVvRm"
      },
      "execution_count": 66,
      "outputs": []
    },
    {
      "cell_type": "code",
      "source": [
        "import pickle\n",
        "with open(\"/content/drive/MyDrive/tagging_data.pkl\", 'wb') as f:\n",
        "  pickle.dump(tagging_data, f)"
      ],
      "metadata": {
        "id": "yaM4nZpvGxe-"
      },
      "execution_count": 14,
      "outputs": []
    },
    {
      "cell_type": "markdown",
      "source": [
        "## Embedding with Doc2Vec"
      ],
      "metadata": {
        "id": "VROh-yBOHFto"
      }
    },
    {
      "cell_type": "code",
      "source": [
        "from gensim.models.doc2vec import Doc2Vec, TaggedDocument\n",
        "from gensim.models import Word2Vec"
      ],
      "metadata": {
        "id": "NNijoKSFafyZ"
      },
      "execution_count": 67,
      "outputs": []
    },
    {
      "cell_type": "code",
      "source": [
        "all_utterances = tagging_data.apply(lambda x: [{\"data\":y[\"data\"], \"id\":str(x[\"dialogue_ID\"])+\"utt\"+str(y[\"utterance_ID\"])} for y in x[\"concat_conv\"]], axis=1).tolist()\n",
        "utt = []\n",
        "for x in all_utterances:\n",
        "  utt.extend(x)"
      ],
      "metadata": {
        "id": "IjNJyEHagfJy"
      },
      "execution_count": 110,
      "outputs": []
    },
    {
      "cell_type": "code",
      "source": [
        "embedding_size = 128"
      ],
      "metadata": {
        "id": "J9q3tMcPj7oE"
      },
      "execution_count": 93,
      "outputs": []
    },
    {
      "cell_type": "code",
      "source": [
        "documents = [TaggedDocument(d[\"data\"].split(), [d[\"id\"]]) for d in utt]\n",
        "model = Doc2Vec(documents, vector_size=embedding_size, window=3, min_count=1, workers=4)"
      ],
      "metadata": {
        "id": "tyiwhhpbiCfM"
      },
      "execution_count": 112,
      "outputs": []
    },
    {
      "cell_type": "code",
      "source": [
        "import pickle\n",
        "with open(\"/content/drive/MyDrive/doc2vec_concat_128.pkl\", 'wb') as f:\n",
        "  pickle.dump(model, f)"
      ],
      "metadata": {
        "id": "BwNR2IdPnThM"
      },
      "execution_count": 115,
      "outputs": []
    },
    {
      "cell_type": "markdown",
      "source": [
        "## Word2Vec and Doc2Vec"
      ],
      "metadata": {
        "id": "P-KDmtyfIX7G"
      }
    },
    {
      "cell_type": "code",
      "source": [
        "import gensim.downloader as api\n",
        "\n",
        "wv = api.load('word2vec-google-news-300')"
      ],
      "metadata": {
        "colab": {
          "base_uri": "https://localhost:8080/"
        },
        "id": "pB6bFdJnG60W",
        "outputId": "1e9885e3-4b38-4e15-cd98-641aa41f18b3"
      },
      "execution_count": 12,
      "outputs": [
        {
          "output_type": "stream",
          "name": "stdout",
          "text": [
            "[==================================================] 100.0% 1662.8/1662.8MB downloaded\n"
          ]
        }
      ]
    },
    {
      "cell_type": "code",
      "source": [
        "from gensim.models import Word2Vec\n"
      ],
      "metadata": {
        "id": "s9ZHVN9VZDUj"
      },
      "execution_count": 33,
      "outputs": []
    },
    {
      "cell_type": "code",
      "source": [
        "all_utterances = tagging_data.apply(lambda x: [y[\"text\"].split() for y in x[\"t_conv\"]], axis=1).tolist()\n",
        "utt = []\n",
        "for x in all_utterances:\n",
        "  utt.extend(x)"
      ],
      "metadata": {
        "id": "z0k9UhBnIftg"
      },
      "execution_count": 56,
      "outputs": []
    },
    {
      "cell_type": "code",
      "source": [
        "all_authors = tagging_data.apply(lambda x: [y[\"speaker\"].split() for y in x[\"t_conv\"]], axis=1).tolist()\n",
        "auth = []\n",
        "for x in all_authors:\n",
        "  auth.extend(x)"
      ],
      "metadata": {
        "id": "lig2CxjuLA-d"
      },
      "execution_count": 57,
      "outputs": []
    },
    {
      "cell_type": "code",
      "source": [
        "all_emotions = tagging_data.apply(lambda x: [y[\"emotion\"].split() for y in x[\"t_conv\"]], axis=1).tolist()\n",
        "emot = []\n",
        "for x in all_emotions:\n",
        "  emot.extend(x)"
      ],
      "metadata": {
        "id": "mTzM8z91LBu1"
      },
      "execution_count": 58,
      "outputs": []
    },
    {
      "cell_type": "code",
      "source": [
        "all_ids =  tagging_data.apply(lambda x: [str(x[\"dialogue_ID\"])+\"utt\"+str(y[\"utterance_ID\"]) for y in x[\"t_conv\"]], axis=1).tolist()\n",
        "ids = []\n",
        "for x in all_ids:\n",
        "  ids.extend(x)"
      ],
      "metadata": {
        "id": "uw7XpI4kfCTC"
      },
      "execution_count": 93,
      "outputs": []
    },
    {
      "cell_type": "code",
      "source": [
        "model = Word2Vec(sentences=auth+emot+utt, vector_size=128, window=5, min_count=1, workers=4)"
      ],
      "metadata": {
        "id": "NipWhcUwY8BL"
      },
      "execution_count": 59,
      "outputs": []
    },
    {
      "cell_type": "code",
      "source": [
        "#sanity check\n",
        "for a in auth:\n",
        "  try:\n",
        "    model.wv[a]\n",
        "  except KeyError:\n",
        "    break"
      ],
      "metadata": {
        "id": "DX94MQVAWCvY"
      },
      "execution_count": 62,
      "outputs": []
    },
    {
      "cell_type": "code",
      "source": [
        "#sanity check\n",
        "for index, word in enumerate(model.wv.index_to_key):\n",
        "    if index == 10:\n",
        "        break\n",
        "    print(f\"word #{index}/{len(wv.index_to_key)} is {word}\")"
      ],
      "metadata": {
        "colab": {
          "base_uri": "https://localhost:8080/"
        },
        "id": "JWE9kL9wYNtk",
        "outputId": "05d65270-51e7-453f-acaf-1485d7a1f68c"
      },
      "execution_count": 55,
      "outputs": [
        {
          "output_type": "stream",
          "name": "stdout",
          "text": [
            "word #0/3000000 is Ross\n",
            "word #1/3000000 is Joey\n",
            "word #2/3000000 is Rachel\n",
            "word #3/3000000 is Monica\n",
            "word #4/3000000 is Phoebe\n",
            "word #5/3000000 is Chandler\n",
            "word #6/3000000 is The\n",
            "word #7/3000000 is Janice\n",
            "word #8/3000000 is Dr.\n",
            "word #9/3000000 is Mr.\n"
          ]
        }
      ]
    },
    {
      "cell_type": "code",
      "source": [
        "all_author_embeds = [model.wv[a] for a in auth]\n",
        "all_emot_embeds = [model.wv[e] for e in emot]"
      ],
      "metadata": {
        "id": "Plh1uxoea5lq"
      },
      "execution_count": 95,
      "outputs": []
    },
    {
      "cell_type": "code",
      "source": [
        "all_utterances = tagging_data.apply(lambda x: [{\"data\":y[\"data\"], \"id\":str(x[\"dialogue_ID\"])+\"utt\"+str(y[\"utterance_ID\"])} for y in x[\"concat_conv\"]], axis=1).tolist()\n",
        "utt = []\n",
        "for x in all_utterances:\n",
        "  utt.extend(x)"
      ],
      "metadata": {
        "id": "y7icC0v9bFmu"
      },
      "execution_count": 96,
      "outputs": []
    },
    {
      "cell_type": "code",
      "source": [
        "documents = [TaggedDocument(d[\"data\"].split(), [d[\"id\"]]) for d in utt]\n",
        "model = Doc2Vec(documents, vector_size=128, window=3, min_count=1, workers=4)"
      ],
      "metadata": {
        "id": "JiE9t3LebNkF"
      },
      "execution_count": 97,
      "outputs": []
    },
    {
      "cell_type": "code",
      "source": [
        "all_utt_embeds = []\n",
        "for u in utt:\n",
        "  all_utt_embeds.append(model.dv[u[\"id\"]])"
      ],
      "metadata": {
        "id": "aOEBCYDNbPn7"
      },
      "execution_count": 98,
      "outputs": []
    },
    {
      "cell_type": "code",
      "source": [
        "import numpy as np\n",
        "import pickle\n"
      ],
      "metadata": {
        "id": "ADD6cOtEck9k"
      },
      "execution_count": 99,
      "outputs": []
    },
    {
      "cell_type": "code",
      "source": [
        "added_embeds = {}\n",
        "maxed_embeds = {}\n",
        "avged_embeds = {}\n",
        "for u, a, e, id in zip(all_utt_embeds, all_author_embeds, all_emot_embeds, ids):\n",
        "  a, e = a[0], e[0]\n",
        "  added_embeds[id] = u+a+e\n",
        "  maxed_embeds[id] = np.maximum.reduce([u,a,e])\n",
        "  avged_embeds[id] = (u+a+e)/128"
      ],
      "metadata": {
        "id": "vskzbosncG9l"
      },
      "execution_count": 104,
      "outputs": []
    },
    {
      "cell_type": "code",
      "source": [
        "with open(\"/content/drive/MyDrive/word2vec_add_128.pkl\", 'wb') as f:\n",
        "  pickle.dump(added_embeds, f)"
      ],
      "metadata": {
        "id": "9fb_K5Wdcr0E"
      },
      "execution_count": 105,
      "outputs": []
    },
    {
      "cell_type": "code",
      "source": [
        "with open(\"/content/drive/MyDrive/word2vec_max_128.pkl\", 'wb') as f:\n",
        "  pickle.dump(maxed_embeds, f)"
      ],
      "metadata": {
        "id": "XGJa3SkIdb9u"
      },
      "execution_count": 106,
      "outputs": []
    },
    {
      "cell_type": "code",
      "source": [
        "with open(\"/content/drive/MyDrive/word2vec_avg_128.pkl\", 'wb') as f:\n",
        "  pickle.dump(avged_embeds, f)"
      ],
      "metadata": {
        "id": "fFcD9boPdcV3"
      },
      "execution_count": 107,
      "outputs": []
    }
  ]
}