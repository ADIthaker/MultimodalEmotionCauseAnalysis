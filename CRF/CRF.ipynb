{
  "nbformat": 4,
  "nbformat_minor": 0,
  "metadata": {
    "colab": {
      "provenance": []
    },
    "kernelspec": {
      "name": "python3",
      "display_name": "Python 3"
    },
    "language_info": {
      "name": "python"
    }
  },
  "cells": [
    {
      "cell_type": "code",
      "execution_count": 1,
      "metadata": {
        "colab": {
          "base_uri": "https://localhost:8080/"
        },
        "id": "ZNZSbO59sMho",
        "outputId": "15a129a5-3549-4ec9-e104-eb82f7dbb725"
      },
      "outputs": [
        {
          "output_type": "stream",
          "name": "stdout",
          "text": [
            "Mounted at /content/drive\n"
          ]
        }
      ],
      "source": [
        "from google.colab import drive\n",
        "drive.mount('/content/drive', force_remount=True)"
      ]
    },
    {
      "cell_type": "code",
      "source": [
        "#!pip uninstall sklearn-crfsuite\n",
        "!pip install git+https://github.com/MeMartijn/updated-sklearn-crfsuite.git#egg=sklearn_crfsuite"
      ],
      "metadata": {
        "colab": {
          "base_uri": "https://localhost:8080/"
        },
        "id": "WdHa52Sgg6kf",
        "outputId": "e3e8f764-cbfa-4865-cbfd-57d44fb03f92"
      },
      "execution_count": 2,
      "outputs": [
        {
          "output_type": "stream",
          "name": "stdout",
          "text": [
            "Collecting sklearn_crfsuite\n",
            "  Cloning https://github.com/MeMartijn/updated-sklearn-crfsuite.git to /tmp/pip-install-9546ir8x/sklearn-crfsuite_7beb98833221412aa8a74d56f8f49665\n",
            "  Running command git clone --filter=blob:none --quiet https://github.com/MeMartijn/updated-sklearn-crfsuite.git /tmp/pip-install-9546ir8x/sklearn-crfsuite_7beb98833221412aa8a74d56f8f49665\n",
            "  Resolved https://github.com/MeMartijn/updated-sklearn-crfsuite.git to commit 675038761b4405f04691a83339d04903790e2b95\n",
            "  Preparing metadata (setup.py) ... \u001b[?25l\u001b[?25hdone\n",
            "Requirement already satisfied: tqdm>=2.0 in /usr/local/lib/python3.10/dist-packages (from sklearn_crfsuite) (4.66.1)\n",
            "Requirement already satisfied: six in /usr/local/lib/python3.10/dist-packages (from sklearn_crfsuite) (1.16.0)\n",
            "Requirement already satisfied: tabulate in /usr/local/lib/python3.10/dist-packages (from sklearn_crfsuite) (0.9.0)\n",
            "Requirement already satisfied: python-crfsuite>=0.8.3 in /usr/local/lib/python3.10/dist-packages (from sklearn_crfsuite) (0.9.9)\n"
          ]
        }
      ]
    },
    {
      "cell_type": "code",
      "source": [
        "!pip install --upgrade pip\n",
        "!pip install --upgrade setuptools"
      ],
      "metadata": {
        "colab": {
          "base_uri": "https://localhost:8080/"
        },
        "id": "mBkVU6wjVgXX",
        "outputId": "9de13348-2dbb-4618-86cb-b959c3075913"
      },
      "execution_count": 2,
      "outputs": [
        {
          "output_type": "stream",
          "name": "stdout",
          "text": [
            "Requirement already satisfied: pip in /usr/local/lib/python3.10/dist-packages (23.3.1)\n",
            "\u001b[33mWARNING: Running pip as the 'root' user can result in broken permissions and conflicting behaviour with the system package manager. It is recommended to use a virtual environment instead: https://pip.pypa.io/warnings/venv\u001b[0m\u001b[33m\n",
            "\u001b[0mRequirement already satisfied: setuptools in /usr/local/lib/python3.10/dist-packages (69.0.2)\n",
            "\u001b[33mWARNING: Running pip as the 'root' user can result in broken permissions and conflicting behaviour with the system package manager. It is recommended to use a virtual environment instead: https://pip.pypa.io/warnings/venv\u001b[0m\u001b[33m\n",
            "\u001b[0m"
          ]
        }
      ]
    },
    {
      "cell_type": "code",
      "source": [
        "import pickle\n",
        "with open(\"/content/drive/MyDrive/doc2vec_concat_128.pkl\", 'rb') as f:\n",
        "  dv_model = pickle.load(f)"
      ],
      "metadata": {
        "id": "6ARMVKFRGAFU"
      },
      "execution_count": 3,
      "outputs": []
    },
    {
      "cell_type": "code",
      "source": [
        "with open(\"/content/drive/MyDrive/tagging_data.pkl\", 'rb') as f:\n",
        "  data = pickle.load(f)"
      ],
      "metadata": {
        "id": "TcEXCOgLG4RX"
      },
      "execution_count": 4,
      "outputs": []
    },
    {
      "cell_type": "code",
      "source": [
        "def sent2features(embed):\n",
        "  features ={}\n",
        "  for i, e in enumerate(embed):\n",
        "    features[\"v\"+str(i)] = e\n",
        "  return features"
      ],
      "metadata": {
        "id": "rRS55JiAFccD"
      },
      "execution_count": 5,
      "outputs": []
    },
    {
      "cell_type": "code",
      "source": [
        "data"
      ],
      "metadata": {
        "colab": {
          "base_uri": "https://localhost:8080/",
          "height": 423
        },
        "id": "WLdcWmmXF_ru",
        "outputId": "7daaf492-8ce4-48e6-ebcf-e36b3783422b"
      },
      "execution_count": 77,
      "outputs": [
        {
          "output_type": "execute_result",
          "data": {
            "text/plain": [
              "       emotion  dialogue_ID  utterance_ID cause_span  \\\n",
              "0     surprise            1             3     [1, 3]   \n",
              "1     surprise            1             4  [1, 3, 4]   \n",
              "2        anger            1             5  [1, 3, 4]   \n",
              "3      sadness            2             1        [1]   \n",
              "4     surprise            2             3        [3]   \n",
              "...        ...          ...           ...        ...   \n",
              "6756     anger         1360            11        [1]   \n",
              "6757       joy         1371             1        [1]   \n",
              "6758     anger         1371             6        [1]   \n",
              "6759  surprise         1374             2        [1]   \n",
              "6760       joy         1374             4        [4]   \n",
              "\n",
              "                                                 t_conv  \\\n",
              "0     [{'utterance_ID': 1, 'text': 'Alright , so I a...   \n",
              "1     [{'utterance_ID': 1, 'text': 'Alright , so I a...   \n",
              "2     [{'utterance_ID': 1, 'text': 'Alright , so I a...   \n",
              "3     [{'utterance_ID': 1, 'text': 'I do not want to...   \n",
              "4     [{'utterance_ID': 1, 'text': 'I do not want to...   \n",
              "...                                                 ...   \n",
              "6756  [{'utterance_ID': 1, 'text': 'Wow ! Fortunatel...   \n",
              "6757  [{'utterance_ID': 1, 'text': 'Ooh ! I am sorry...   \n",
              "6758  [{'utterance_ID': 1, 'text': 'Ooh ! I am sorry...   \n",
              "6759  [{'utterance_ID': 1, 'text': 'I never sucked ,...   \n",
              "6760  [{'utterance_ID': 1, 'text': 'I never sucked ,...   \n",
              "\n",
              "                                            concat_conv  \n",
              "0     [{'utterance_ID': 1, 'data': 'Alright , so I a...  \n",
              "1     [{'utterance_ID': 1, 'data': 'Alright , so I a...  \n",
              "2     [{'utterance_ID': 1, 'data': 'Alright , so I a...  \n",
              "3     [{'utterance_ID': 1, 'data': 'I do not want to...  \n",
              "4     [{'utterance_ID': 1, 'data': 'I do not want to...  \n",
              "...                                                 ...  \n",
              "6756  [{'utterance_ID': 1, 'data': 'Wow ! Fortunatel...  \n",
              "6757  [{'utterance_ID': 1, 'data': 'Ooh ! I am sorry...  \n",
              "6758  [{'utterance_ID': 1, 'data': 'Ooh ! I am sorry...  \n",
              "6759  [{'utterance_ID': 1, 'data': 'I never sucked ,...  \n",
              "6760  [{'utterance_ID': 1, 'data': 'I never sucked ,...  \n",
              "\n",
              "[6761 rows x 6 columns]"
            ],
            "text/html": [
              "\n",
              "  <div id=\"df-f7220e2d-4a0f-4237-ba93-926f4dc66ac6\" class=\"colab-df-container\">\n",
              "    <div>\n",
              "<style scoped>\n",
              "    .dataframe tbody tr th:only-of-type {\n",
              "        vertical-align: middle;\n",
              "    }\n",
              "\n",
              "    .dataframe tbody tr th {\n",
              "        vertical-align: top;\n",
              "    }\n",
              "\n",
              "    .dataframe thead th {\n",
              "        text-align: right;\n",
              "    }\n",
              "</style>\n",
              "<table border=\"1\" class=\"dataframe\">\n",
              "  <thead>\n",
              "    <tr style=\"text-align: right;\">\n",
              "      <th></th>\n",
              "      <th>emotion</th>\n",
              "      <th>dialogue_ID</th>\n",
              "      <th>utterance_ID</th>\n",
              "      <th>cause_span</th>\n",
              "      <th>t_conv</th>\n",
              "      <th>concat_conv</th>\n",
              "    </tr>\n",
              "  </thead>\n",
              "  <tbody>\n",
              "    <tr>\n",
              "      <th>0</th>\n",
              "      <td>surprise</td>\n",
              "      <td>1</td>\n",
              "      <td>3</td>\n",
              "      <td>[1, 3]</td>\n",
              "      <td>[{'utterance_ID': 1, 'text': 'Alright , so I a...</td>\n",
              "      <td>[{'utterance_ID': 1, 'data': 'Alright , so I a...</td>\n",
              "    </tr>\n",
              "    <tr>\n",
              "      <th>1</th>\n",
              "      <td>surprise</td>\n",
              "      <td>1</td>\n",
              "      <td>4</td>\n",
              "      <td>[1, 3, 4]</td>\n",
              "      <td>[{'utterance_ID': 1, 'text': 'Alright , so I a...</td>\n",
              "      <td>[{'utterance_ID': 1, 'data': 'Alright , so I a...</td>\n",
              "    </tr>\n",
              "    <tr>\n",
              "      <th>2</th>\n",
              "      <td>anger</td>\n",
              "      <td>1</td>\n",
              "      <td>5</td>\n",
              "      <td>[1, 3, 4]</td>\n",
              "      <td>[{'utterance_ID': 1, 'text': 'Alright , so I a...</td>\n",
              "      <td>[{'utterance_ID': 1, 'data': 'Alright , so I a...</td>\n",
              "    </tr>\n",
              "    <tr>\n",
              "      <th>3</th>\n",
              "      <td>sadness</td>\n",
              "      <td>2</td>\n",
              "      <td>1</td>\n",
              "      <td>[1]</td>\n",
              "      <td>[{'utterance_ID': 1, 'text': 'I do not want to...</td>\n",
              "      <td>[{'utterance_ID': 1, 'data': 'I do not want to...</td>\n",
              "    </tr>\n",
              "    <tr>\n",
              "      <th>4</th>\n",
              "      <td>surprise</td>\n",
              "      <td>2</td>\n",
              "      <td>3</td>\n",
              "      <td>[3]</td>\n",
              "      <td>[{'utterance_ID': 1, 'text': 'I do not want to...</td>\n",
              "      <td>[{'utterance_ID': 1, 'data': 'I do not want to...</td>\n",
              "    </tr>\n",
              "    <tr>\n",
              "      <th>...</th>\n",
              "      <td>...</td>\n",
              "      <td>...</td>\n",
              "      <td>...</td>\n",
              "      <td>...</td>\n",
              "      <td>...</td>\n",
              "      <td>...</td>\n",
              "    </tr>\n",
              "    <tr>\n",
              "      <th>6756</th>\n",
              "      <td>anger</td>\n",
              "      <td>1360</td>\n",
              "      <td>11</td>\n",
              "      <td>[1]</td>\n",
              "      <td>[{'utterance_ID': 1, 'text': 'Wow ! Fortunatel...</td>\n",
              "      <td>[{'utterance_ID': 1, 'data': 'Wow ! Fortunatel...</td>\n",
              "    </tr>\n",
              "    <tr>\n",
              "      <th>6757</th>\n",
              "      <td>joy</td>\n",
              "      <td>1371</td>\n",
              "      <td>1</td>\n",
              "      <td>[1]</td>\n",
              "      <td>[{'utterance_ID': 1, 'text': 'Ooh ! I am sorry...</td>\n",
              "      <td>[{'utterance_ID': 1, 'data': 'Ooh ! I am sorry...</td>\n",
              "    </tr>\n",
              "    <tr>\n",
              "      <th>6758</th>\n",
              "      <td>anger</td>\n",
              "      <td>1371</td>\n",
              "      <td>6</td>\n",
              "      <td>[1]</td>\n",
              "      <td>[{'utterance_ID': 1, 'text': 'Ooh ! I am sorry...</td>\n",
              "      <td>[{'utterance_ID': 1, 'data': 'Ooh ! I am sorry...</td>\n",
              "    </tr>\n",
              "    <tr>\n",
              "      <th>6759</th>\n",
              "      <td>surprise</td>\n",
              "      <td>1374</td>\n",
              "      <td>2</td>\n",
              "      <td>[1]</td>\n",
              "      <td>[{'utterance_ID': 1, 'text': 'I never sucked ,...</td>\n",
              "      <td>[{'utterance_ID': 1, 'data': 'I never sucked ,...</td>\n",
              "    </tr>\n",
              "    <tr>\n",
              "      <th>6760</th>\n",
              "      <td>joy</td>\n",
              "      <td>1374</td>\n",
              "      <td>4</td>\n",
              "      <td>[4]</td>\n",
              "      <td>[{'utterance_ID': 1, 'text': 'I never sucked ,...</td>\n",
              "      <td>[{'utterance_ID': 1, 'data': 'I never sucked ,...</td>\n",
              "    </tr>\n",
              "  </tbody>\n",
              "</table>\n",
              "<p>6761 rows × 6 columns</p>\n",
              "</div>\n",
              "    <div class=\"colab-df-buttons\">\n",
              "\n",
              "  <div class=\"colab-df-container\">\n",
              "    <button class=\"colab-df-convert\" onclick=\"convertToInteractive('df-f7220e2d-4a0f-4237-ba93-926f4dc66ac6')\"\n",
              "            title=\"Convert this dataframe to an interactive table.\"\n",
              "            style=\"display:none;\">\n",
              "\n",
              "  <svg xmlns=\"http://www.w3.org/2000/svg\" height=\"24px\" viewBox=\"0 -960 960 960\">\n",
              "    <path d=\"M120-120v-720h720v720H120Zm60-500h600v-160H180v160Zm220 220h160v-160H400v160Zm0 220h160v-160H400v160ZM180-400h160v-160H180v160Zm440 0h160v-160H620v160ZM180-180h160v-160H180v160Zm440 0h160v-160H620v160Z\"/>\n",
              "  </svg>\n",
              "    </button>\n",
              "\n",
              "  <style>\n",
              "    .colab-df-container {\n",
              "      display:flex;\n",
              "      gap: 12px;\n",
              "    }\n",
              "\n",
              "    .colab-df-convert {\n",
              "      background-color: #E8F0FE;\n",
              "      border: none;\n",
              "      border-radius: 50%;\n",
              "      cursor: pointer;\n",
              "      display: none;\n",
              "      fill: #1967D2;\n",
              "      height: 32px;\n",
              "      padding: 0 0 0 0;\n",
              "      width: 32px;\n",
              "    }\n",
              "\n",
              "    .colab-df-convert:hover {\n",
              "      background-color: #E2EBFA;\n",
              "      box-shadow: 0px 1px 2px rgba(60, 64, 67, 0.3), 0px 1px 3px 1px rgba(60, 64, 67, 0.15);\n",
              "      fill: #174EA6;\n",
              "    }\n",
              "\n",
              "    .colab-df-buttons div {\n",
              "      margin-bottom: 4px;\n",
              "    }\n",
              "\n",
              "    [theme=dark] .colab-df-convert {\n",
              "      background-color: #3B4455;\n",
              "      fill: #D2E3FC;\n",
              "    }\n",
              "\n",
              "    [theme=dark] .colab-df-convert:hover {\n",
              "      background-color: #434B5C;\n",
              "      box-shadow: 0px 1px 3px 1px rgba(0, 0, 0, 0.15);\n",
              "      filter: drop-shadow(0px 1px 2px rgba(0, 0, 0, 0.3));\n",
              "      fill: #FFFFFF;\n",
              "    }\n",
              "  </style>\n",
              "\n",
              "    <script>\n",
              "      const buttonEl =\n",
              "        document.querySelector('#df-f7220e2d-4a0f-4237-ba93-926f4dc66ac6 button.colab-df-convert');\n",
              "      buttonEl.style.display =\n",
              "        google.colab.kernel.accessAllowed ? 'block' : 'none';\n",
              "\n",
              "      async function convertToInteractive(key) {\n",
              "        const element = document.querySelector('#df-f7220e2d-4a0f-4237-ba93-926f4dc66ac6');\n",
              "        const dataTable =\n",
              "          await google.colab.kernel.invokeFunction('convertToInteractive',\n",
              "                                                    [key], {});\n",
              "        if (!dataTable) return;\n",
              "\n",
              "        const docLinkHtml = 'Like what you see? Visit the ' +\n",
              "          '<a target=\"_blank\" href=https://colab.research.google.com/notebooks/data_table.ipynb>data table notebook</a>'\n",
              "          + ' to learn more about interactive tables.';\n",
              "        element.innerHTML = '';\n",
              "        dataTable['output_type'] = 'display_data';\n",
              "        await google.colab.output.renderOutput(dataTable, element);\n",
              "        const docLink = document.createElement('div');\n",
              "        docLink.innerHTML = docLinkHtml;\n",
              "        element.appendChild(docLink);\n",
              "      }\n",
              "    </script>\n",
              "  </div>\n",
              "\n",
              "\n",
              "<div id=\"df-fedc42bd-a56b-4ed1-a8db-879efb21375f\">\n",
              "  <button class=\"colab-df-quickchart\" onclick=\"quickchart('df-fedc42bd-a56b-4ed1-a8db-879efb21375f')\"\n",
              "            title=\"Suggest charts\"\n",
              "            style=\"display:none;\">\n",
              "\n",
              "<svg xmlns=\"http://www.w3.org/2000/svg\" height=\"24px\"viewBox=\"0 0 24 24\"\n",
              "     width=\"24px\">\n",
              "    <g>\n",
              "        <path d=\"M19 3H5c-1.1 0-2 .9-2 2v14c0 1.1.9 2 2 2h14c1.1 0 2-.9 2-2V5c0-1.1-.9-2-2-2zM9 17H7v-7h2v7zm4 0h-2V7h2v10zm4 0h-2v-4h2v4z\"/>\n",
              "    </g>\n",
              "</svg>\n",
              "  </button>\n",
              "\n",
              "<style>\n",
              "  .colab-df-quickchart {\n",
              "      --bg-color: #E8F0FE;\n",
              "      --fill-color: #1967D2;\n",
              "      --hover-bg-color: #E2EBFA;\n",
              "      --hover-fill-color: #174EA6;\n",
              "      --disabled-fill-color: #AAA;\n",
              "      --disabled-bg-color: #DDD;\n",
              "  }\n",
              "\n",
              "  [theme=dark] .colab-df-quickchart {\n",
              "      --bg-color: #3B4455;\n",
              "      --fill-color: #D2E3FC;\n",
              "      --hover-bg-color: #434B5C;\n",
              "      --hover-fill-color: #FFFFFF;\n",
              "      --disabled-bg-color: #3B4455;\n",
              "      --disabled-fill-color: #666;\n",
              "  }\n",
              "\n",
              "  .colab-df-quickchart {\n",
              "    background-color: var(--bg-color);\n",
              "    border: none;\n",
              "    border-radius: 50%;\n",
              "    cursor: pointer;\n",
              "    display: none;\n",
              "    fill: var(--fill-color);\n",
              "    height: 32px;\n",
              "    padding: 0;\n",
              "    width: 32px;\n",
              "  }\n",
              "\n",
              "  .colab-df-quickchart:hover {\n",
              "    background-color: var(--hover-bg-color);\n",
              "    box-shadow: 0 1px 2px rgba(60, 64, 67, 0.3), 0 1px 3px 1px rgba(60, 64, 67, 0.15);\n",
              "    fill: var(--button-hover-fill-color);\n",
              "  }\n",
              "\n",
              "  .colab-df-quickchart-complete:disabled,\n",
              "  .colab-df-quickchart-complete:disabled:hover {\n",
              "    background-color: var(--disabled-bg-color);\n",
              "    fill: var(--disabled-fill-color);\n",
              "    box-shadow: none;\n",
              "  }\n",
              "\n",
              "  .colab-df-spinner {\n",
              "    border: 2px solid var(--fill-color);\n",
              "    border-color: transparent;\n",
              "    border-bottom-color: var(--fill-color);\n",
              "    animation:\n",
              "      spin 1s steps(1) infinite;\n",
              "  }\n",
              "\n",
              "  @keyframes spin {\n",
              "    0% {\n",
              "      border-color: transparent;\n",
              "      border-bottom-color: var(--fill-color);\n",
              "      border-left-color: var(--fill-color);\n",
              "    }\n",
              "    20% {\n",
              "      border-color: transparent;\n",
              "      border-left-color: var(--fill-color);\n",
              "      border-top-color: var(--fill-color);\n",
              "    }\n",
              "    30% {\n",
              "      border-color: transparent;\n",
              "      border-left-color: var(--fill-color);\n",
              "      border-top-color: var(--fill-color);\n",
              "      border-right-color: var(--fill-color);\n",
              "    }\n",
              "    40% {\n",
              "      border-color: transparent;\n",
              "      border-right-color: var(--fill-color);\n",
              "      border-top-color: var(--fill-color);\n",
              "    }\n",
              "    60% {\n",
              "      border-color: transparent;\n",
              "      border-right-color: var(--fill-color);\n",
              "    }\n",
              "    80% {\n",
              "      border-color: transparent;\n",
              "      border-right-color: var(--fill-color);\n",
              "      border-bottom-color: var(--fill-color);\n",
              "    }\n",
              "    90% {\n",
              "      border-color: transparent;\n",
              "      border-bottom-color: var(--fill-color);\n",
              "    }\n",
              "  }\n",
              "</style>\n",
              "\n",
              "  <script>\n",
              "    async function quickchart(key) {\n",
              "      const quickchartButtonEl =\n",
              "        document.querySelector('#' + key + ' button');\n",
              "      quickchartButtonEl.disabled = true;  // To prevent multiple clicks.\n",
              "      quickchartButtonEl.classList.add('colab-df-spinner');\n",
              "      try {\n",
              "        const charts = await google.colab.kernel.invokeFunction(\n",
              "            'suggestCharts', [key], {});\n",
              "      } catch (error) {\n",
              "        console.error('Error during call to suggestCharts:', error);\n",
              "      }\n",
              "      quickchartButtonEl.classList.remove('colab-df-spinner');\n",
              "      quickchartButtonEl.classList.add('colab-df-quickchart-complete');\n",
              "    }\n",
              "    (() => {\n",
              "      let quickchartButtonEl =\n",
              "        document.querySelector('#df-fedc42bd-a56b-4ed1-a8db-879efb21375f button');\n",
              "      quickchartButtonEl.style.display =\n",
              "        google.colab.kernel.accessAllowed ? 'block' : 'none';\n",
              "    })();\n",
              "  </script>\n",
              "</div>\n",
              "\n",
              "  <div id=\"id_9ddb6522-355d-446b-a7be-825b419de1be\">\n",
              "    <style>\n",
              "      .colab-df-generate {\n",
              "        background-color: #E8F0FE;\n",
              "        border: none;\n",
              "        border-radius: 50%;\n",
              "        cursor: pointer;\n",
              "        display: none;\n",
              "        fill: #1967D2;\n",
              "        height: 32px;\n",
              "        padding: 0 0 0 0;\n",
              "        width: 32px;\n",
              "      }\n",
              "\n",
              "      .colab-df-generate:hover {\n",
              "        background-color: #E2EBFA;\n",
              "        box-shadow: 0px 1px 2px rgba(60, 64, 67, 0.3), 0px 1px 3px 1px rgba(60, 64, 67, 0.15);\n",
              "        fill: #174EA6;\n",
              "      }\n",
              "\n",
              "      [theme=dark] .colab-df-generate {\n",
              "        background-color: #3B4455;\n",
              "        fill: #D2E3FC;\n",
              "      }\n",
              "\n",
              "      [theme=dark] .colab-df-generate:hover {\n",
              "        background-color: #434B5C;\n",
              "        box-shadow: 0px 1px 3px 1px rgba(0, 0, 0, 0.15);\n",
              "        filter: drop-shadow(0px 1px 2px rgba(0, 0, 0, 0.3));\n",
              "        fill: #FFFFFF;\n",
              "      }\n",
              "    </style>\n",
              "    <button class=\"colab-df-generate\" onclick=\"generateWithVariable('data')\"\n",
              "            title=\"Generate code using this dataframe.\"\n",
              "            style=\"display:none;\">\n",
              "\n",
              "  <svg xmlns=\"http://www.w3.org/2000/svg\" height=\"24px\"viewBox=\"0 0 24 24\"\n",
              "       width=\"24px\">\n",
              "    <path d=\"M7,19H8.4L18.45,9,17,7.55,7,17.6ZM5,21V16.75L18.45,3.32a2,2,0,0,1,2.83,0l1.4,1.43a1.91,1.91,0,0,1,.58,1.4,1.91,1.91,0,0,1-.58,1.4L9.25,21ZM18.45,9,17,7.55Zm-12,3A5.31,5.31,0,0,0,4.9,8.1,5.31,5.31,0,0,0,1,6.5,5.31,5.31,0,0,0,4.9,4.9,5.31,5.31,0,0,0,6.5,1,5.31,5.31,0,0,0,8.1,4.9,5.31,5.31,0,0,0,12,6.5,5.46,5.46,0,0,0,6.5,12Z\"/>\n",
              "  </svg>\n",
              "    </button>\n",
              "    <script>\n",
              "      (() => {\n",
              "      const buttonEl =\n",
              "        document.querySelector('#id_9ddb6522-355d-446b-a7be-825b419de1be button.colab-df-generate');\n",
              "      buttonEl.style.display =\n",
              "        google.colab.kernel.accessAllowed ? 'block' : 'none';\n",
              "\n",
              "      buttonEl.onclick = () => {\n",
              "        google.colab.notebook.generateWithVariable('data');\n",
              "      }\n",
              "      })();\n",
              "    </script>\n",
              "  </div>\n",
              "\n",
              "    </div>\n",
              "  </div>\n"
            ]
          },
          "metadata": {},
          "execution_count": 77
        }
      ]
    },
    {
      "cell_type": "code",
      "source": [
        "def convert_df_to_model_data(data, embed_path):\n",
        "  model_data = data.copy(deep=True)\n",
        "  with open(embed_path, 'rb') as f:\n",
        "    embedding = pickle.load(f)\n",
        "  model_data[\"conv\"] = model_data.apply(lambda x: [embedding[str(x[\"dialogue_ID\"])+\"utt\"+str(y[\"utterance_ID\"])] for y in x[\"t_conv\"]], axis=1)\n",
        "  model_data[\"oh_cause_spans\"] = model_data.apply(lambda x: [\"1\" if i in x[\"cause_span\"] else \"0\" for i in range(1, x[\"utterance_ID\"]+1)], axis=1)\n",
        "  model_data.drop(labels={\"t_conv\", \"concat_conv\", \"cause_span\"}, inplace=True, axis=1)\n",
        "  return model_data"
      ],
      "metadata": {
        "id": "_y7FtiDbd6VF"
      },
      "execution_count": 78,
      "outputs": []
    },
    {
      "cell_type": "code",
      "source": [
        "from sklearn.model_selection import train_test_split\n",
        "import sklearn_crfsuite\n",
        "from sklearn_crfsuite import metrics"
      ],
      "metadata": {
        "id": "rLvKQQyvMcZb"
      },
      "execution_count": 79,
      "outputs": []
    },
    {
      "cell_type": "code",
      "source": [
        "def d2v_model_split_train(data, dv_model, algorithm=\"ap\"):\n",
        "  model_data = data.copy(deep=True)\n",
        "  model_data[\"conv\"] = model_data.apply(lambda x: [dv_model.dv[str(x[\"dialogue_ID\"])+\"utt\"+str(y[\"utterance_ID\"])] for y in x[\"concat_conv\"]], axis=1)\n",
        "  model_data[\"oh_cause_spans\"] = model_data.apply(lambda x: [\"1\" if i in x[\"cause_span\"] else \"0\" for i in range(1, x[\"utterance_ID\"]+1)], axis=1)\n",
        "  X_train, X_test, y_train, y_test = train_test_split(model_data[\"conv\"], model_data[\"oh_cause_spans\"], test_size=0.2, random_state=43)\n",
        "  X_train = [sent2features(sent) for sent in X_train]\n",
        "  y_train = [sent for sent in y_train]\n",
        "  crf = sklearn_crfsuite.CRF(\n",
        "    algorithm=algorithm,\n",
        "    max_iterations=200,\n",
        "    all_possible_transitions=True,\n",
        ")\n",
        "  crf.fit(X_train, y_train)\n",
        "  X_test = [sent2features(sent) for sent in X_test]\n",
        "  y_pred = crf.predict(X_test)\n",
        "  print(\"For algorithm: \", algorithm)\n",
        "  print(\"F1-Score:\", metrics.flat_f1_score(y_test, y_pred,\n",
        "                      average='weighted'))\n",
        "  print(\"Precision: \",metrics.flat_precision_score(y_test, y_pred,\n",
        "                      average='weighted'))\n",
        "  print(\"Recall: \",metrics.flat_recall_score(y_test, y_pred,\n",
        "                      average='weighted'))\n",
        "  print(\"Whole Sequence Prediction Percentage: \",sklearn_crfsuite.metrics.sequence_accuracy_score(y_test, y_pred))"
      ],
      "metadata": {
        "id": "oYjrT_0jl8vB"
      },
      "execution_count": 84,
      "outputs": []
    },
    {
      "cell_type": "code",
      "source": [
        "d2v_model_split_train(data, dv_model, algorithm=\"ap\")"
      ],
      "metadata": {
        "colab": {
          "base_uri": "https://localhost:8080/"
        },
        "id": "4w22QX4Jm_Th",
        "outputId": "b18c7cf5-8a36-4903-912e-dfcc9d8318bf"
      },
      "execution_count": 85,
      "outputs": [
        {
          "output_type": "stream",
          "name": "stdout",
          "text": [
            "For algorithm:  ap\n",
            "F1-Score: 0.8530215505124903\n",
            "Precision:  0.8557521893053628\n",
            "Recall:  0.8689752936411502\n",
            "Whole Sequence Prediction Percentage:  0.3399852180339985\n"
          ]
        }
      ]
    },
    {
      "cell_type": "code",
      "source": [
        "added_model_data = convert_df_to_model_data(data, \"/content/drive/MyDrive/word2vec_add_128.pkl\")\n",
        "maxed_model_data = convert_df_to_model_data(data, \"/content/drive/MyDrive/word2vec_max_128.pkl\" )\n",
        "avged_model_data = convert_df_to_model_data(data, \"/content/drive/MyDrive/word2vec_avg_128.pkl\")"
      ],
      "metadata": {
        "id": "f3Ed7PPogd9H"
      },
      "execution_count": 86,
      "outputs": []
    },
    {
      "cell_type": "code",
      "source": [
        "def split_data_train_model(data, algorithm=\"ap\"):\n",
        "  X_train, X_test, y_train, y_test = train_test_split(data[\"conv\"], data[\"oh_cause_spans\"], test_size=0.2, random_state=43)\n",
        "  X_train = [sent2features(sent) for sent in X_train]\n",
        "  y_train = [sent for sent in y_train]\n",
        "  crf = sklearn_crfsuite.CRF(\n",
        "    algorithm=algorithm,\n",
        "    max_iterations=200,\n",
        "    all_possible_transitions=True,\n",
        ")\n",
        "  crf.fit(X_train, y_train)\n",
        "  X_test = [sent2features(sent) for sent in X_test]\n",
        "  y_pred = crf.predict(X_test)\n",
        "  print(\"For algorithm:\", algorithm)\n",
        "  print(\"F1-Score:\", metrics.flat_f1_score(y_test, y_pred,\n",
        "                      average='weighted'))\n",
        "  print(\"Precision:\",metrics.flat_precision_score(y_test, y_pred,\n",
        "                      average='weighted'))\n",
        "  print(\"Recall:\",metrics.flat_recall_score(y_test, y_pred,\n",
        "                      average='weighted'))\n",
        "  print(\"Whole Sequence Prediction Percentage:\",sklearn_crfsuite.metrics.sequence_accuracy_score(y_test, y_pred))"
      ],
      "metadata": {
        "id": "vEJ6O8o4gz8o"
      },
      "execution_count": 91,
      "outputs": []
    },
    {
      "cell_type": "code",
      "source": [
        "print(\"Added Vectors\")\n",
        "split_data_train_model(added_model_data)\n",
        "print(\"Averaged Vectors\")\n",
        "split_data_train_model(avged_model_data)\n",
        "print(\"Maxed Vectors\")\n",
        "split_data_train_model(maxed_model_data)"
      ],
      "metadata": {
        "colab": {
          "base_uri": "https://localhost:8080/"
        },
        "id": "4wG2wQ3PiKlx",
        "outputId": "a3f192d6-b8a5-40f5-be54-c570c796ae5e"
      },
      "execution_count": 92,
      "outputs": [
        {
          "output_type": "stream",
          "name": "stdout",
          "text": [
            "Added Vectors\n",
            "For algorithm: ap\n",
            "F1-Score: 0.8530215505124903\n",
            "Precision: 0.8557521893053628\n",
            "Recall: 0.8689752936411502\n",
            "Whole Sequence Prediction Percentage: 0.3399852180339985\n",
            "Averaged Vectors\n",
            "For algorithm: ap\n",
            "F1-Score: 0.8530215505124903\n",
            "Precision: 0.8557521893053628\n",
            "Recall: 0.8689752936411502\n",
            "Whole Sequence Prediction Percentage: 0.3399852180339985\n",
            "Maxed Vectors\n",
            "For algorithm: ap\n",
            "F1-Score: 0.8530215505124903\n",
            "Precision: 0.8557521893053628\n",
            "Recall: 0.8689752936411502\n",
            "Whole Sequence Prediction Percentage: 0.3399852180339985\n"
          ]
        }
      ]
    },
    {
      "cell_type": "code",
      "source": [
        "print(\"Added Vectors\")\n",
        "split_data_train_model(added_model_data, algorithm=\"lbfgs\")\n",
        "print(\"Averaged Vectors\")\n",
        "split_data_train_model(avged_model_data, algorithm=\"lbfgs\")\n",
        "print(\"Maxed Vectors\")\n",
        "split_data_train_model(maxed_model_data, algorithm=\"lbfgs\")"
      ],
      "metadata": {
        "colab": {
          "base_uri": "https://localhost:8080/"
        },
        "id": "U2U27JO6iZ99",
        "outputId": "d647fcb7-4ee2-4efe-bf12-f82b989503b0"
      },
      "execution_count": 93,
      "outputs": [
        {
          "output_type": "stream",
          "name": "stdout",
          "text": [
            "Added Vectors\n",
            "For algorithm: lbfgs\n",
            "F1-Score: 0.8568607466596021\n",
            "Precision: 0.856506216655706\n",
            "Recall: 0.8693803159173754\n",
            "Whole Sequence Prediction Percentage: 0.32002956393200294\n",
            "Averaged Vectors\n",
            "For algorithm: lbfgs\n",
            "F1-Score: 0.8568607466596021\n",
            "Precision: 0.856506216655706\n",
            "Recall: 0.8693803159173754\n",
            "Whole Sequence Prediction Percentage: 0.32002956393200294\n",
            "Maxed Vectors\n",
            "For algorithm: lbfgs\n",
            "F1-Score: 0.8568607466596021\n",
            "Precision: 0.856506216655706\n",
            "Recall: 0.8693803159173754\n",
            "Whole Sequence Prediction Percentage: 0.32002956393200294\n"
          ]
        }
      ]
    },
    {
      "cell_type": "code",
      "source": [
        "print(\"Added Vectors\")\n",
        "split_data_train_model(added_model_data, algorithm=\"l2sgd\")\n",
        "print(\"Averaged Vectors\")\n",
        "split_data_train_model(avged_model_data, algorithm=\"l2sgd\")\n",
        "print(\"Maxed Vectors\")\n",
        "split_data_train_model(maxed_model_data, algorithm=\"l2sgd\")"
      ],
      "metadata": {
        "colab": {
          "base_uri": "https://localhost:8080/"
        },
        "id": "rPXApYtcn3wQ",
        "outputId": "ec04e700-d240-44de-c3aa-e7017542030b"
      },
      "execution_count": 94,
      "outputs": [
        {
          "output_type": "stream",
          "name": "stdout",
          "text": [
            "Added Vectors\n",
            "For algorithm: l2sgd\n",
            "F1-Score: 0.8568607466596021\n",
            "Precision: 0.856506216655706\n",
            "Recall: 0.8693803159173754\n",
            "Whole Sequence Prediction Percentage: 0.32002956393200294\n",
            "Averaged Vectors\n",
            "For algorithm: l2sgd\n",
            "F1-Score: 0.8568607466596021\n",
            "Precision: 0.856506216655706\n",
            "Recall: 0.8693803159173754\n",
            "Whole Sequence Prediction Percentage: 0.32002956393200294\n",
            "Maxed Vectors\n",
            "For algorithm: l2sgd\n",
            "F1-Score: 0.8568607466596021\n",
            "Precision: 0.856506216655706\n",
            "Recall: 0.8693803159173754\n",
            "Whole Sequence Prediction Percentage: 0.32002956393200294\n"
          ]
        }
      ]
    }
  ]
}